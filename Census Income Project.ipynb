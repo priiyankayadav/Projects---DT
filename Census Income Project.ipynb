{
 "cells": [
  {
   "cell_type": "markdown",
   "id": "e256afc3",
   "metadata": {},
   "source": [
    "# Census Income Project"
   ]
  },
  {
   "cell_type": "code",
   "execution_count": 96,
   "id": "67ee4766",
   "metadata": {
    "execution": {
     "iopub.execute_input": "2021-12-01T23:49:30.951259Z",
     "iopub.status.busy": "2021-12-01T23:49:30.950547Z",
     "iopub.status.idle": "2021-12-01T23:49:32.193084Z",
     "shell.execute_reply": "2021-12-01T23:49:32.193690Z",
     "shell.execute_reply.started": "2021-12-01T23:48:26.031045Z"
    },
    "papermill": {
     "duration": 1.281389,
     "end_time": "2021-12-01T23:49:32.193988",
     "exception": false,
     "start_time": "2021-12-01T23:49:30.912599",
     "status": "completed"
    },
    "tags": []
   },
   "outputs": [
    {
     "data": {
      "text/plain": [
       "((26048, 15), (6512, 15), (26048, 2), (6512, 2))"
      ]
     },
     "execution_count": 96,
     "metadata": {},
     "output_type": "execute_result"
    }
   ],
   "source": [
    "\n",
    "import pandas as pd\n",
    "import numpy as np\n",
    "from sklearn.model_selection import train_test_split\n",
    "\n",
    "def exam_data_load(df, target, id_name=\"\", null_name=\"\"):\n",
    "    if id_name == \"\":\n",
    "        df = df.reset_index().rename(columns={\"index\": \"id\"})\n",
    "        id_name = 'id'\n",
    "    else:\n",
    "        id_name = id_name\n",
    "    \n",
    "    if null_name != \"\":\n",
    "        df[df == null_name] = np.nan\n",
    "    \n",
    "    X_train, X_test = train_test_split(df, test_size=0.2, random_state=2021)\n",
    "    \n",
    "    y_train = X_train[[id_name, target]]\n",
    "    X_train = X_train.drop(columns=[target])\n",
    "\n",
    "    \n",
    "    y_test = X_test[[id_name, target]]\n",
    "    X_test = X_test.drop(columns=[target])\n",
    "    return X_train, X_test, y_train, y_test \n",
    "    \n",
    "df = pd.read_csv('https://raw.githubusercontent.com/dsrscientist/dataset1/master/census_income.csv')\n",
    "df.columns = df.columns.str.lower()\n",
    "df.columns = df.columns.str.replace('_','.')\n",
    "X_train, X_test, y_train, y_test = exam_data_load(df, target='income', null_name='?')\n",
    "\n",
    "X_train.shape, X_test.shape, y_train.shape, y_test.shape"
   ]
  },
  {
   "cell_type": "code",
   "execution_count": 97,
   "id": "6e9491f6",
   "metadata": {
    "execution": {
     "iopub.execute_input": "2021-12-01T23:49:32.371006Z",
     "iopub.status.busy": "2021-12-01T23:49:32.370005Z",
     "iopub.status.idle": "2021-12-01T23:49:32.373223Z",
     "shell.execute_reply": "2021-12-01T23:49:32.373784Z",
     "shell.execute_reply.started": "2021-12-01T23:48:26.135332Z"
    },
    "papermill": {
     "duration": 0.035631,
     "end_time": "2021-12-01T23:49:32.373947",
     "exception": false,
     "start_time": "2021-12-01T23:49:32.338316",
     "status": "completed"
    },
    "tags": []
   },
   "outputs": [],
   "source": [
    "# Importing Libraries\n",
    "import pandas as pd\n",
    "import numpy as np"
   ]
  },
  {
   "cell_type": "markdown",
   "id": "e1b5b84f",
   "metadata": {
    "papermill": {
     "duration": 0.027878,
     "end_time": "2021-12-01T23:49:32.550301",
     "exception": false,
     "start_time": "2021-12-01T23:49:32.522423",
     "status": "completed"
    },
    "tags": []
   },
   "source": [
    "## EDA"
   ]
  },
  {
   "cell_type": "code",
   "execution_count": 98,
   "id": "5df01f89",
   "metadata": {
    "execution": {
     "iopub.execute_input": "2021-12-01T23:49:32.611682Z",
     "iopub.status.busy": "2021-12-01T23:49:32.610980Z",
     "iopub.status.idle": "2021-12-01T23:49:32.617230Z",
     "shell.execute_reply": "2021-12-01T23:49:32.617890Z",
     "shell.execute_reply.started": "2021-12-01T23:48:26.154760Z"
    },
    "papermill": {
     "duration": 0.039399,
     "end_time": "2021-12-01T23:49:32.618185",
     "exception": false,
     "start_time": "2021-12-01T23:49:32.578786",
     "status": "completed"
    },
    "tags": []
   },
   "outputs": [
    {
     "data": {
      "text/plain": [
       "((26048, 15), (6512, 15), (26048, 2))"
      ]
     },
     "execution_count": 98,
     "metadata": {},
     "output_type": "execute_result"
    }
   ],
   "source": [
    "X_train.shape, X_test.shape, y_train.shape"
   ]
  },
  {
   "cell_type": "code",
   "execution_count": 99,
   "id": "c9db0ba9",
   "metadata": {
    "execution": {
     "iopub.execute_input": "2021-12-01T23:49:32.680397Z",
     "iopub.status.busy": "2021-12-01T23:49:32.679740Z",
     "iopub.status.idle": "2021-12-01T23:49:32.698910Z",
     "shell.execute_reply": "2021-12-01T23:49:32.699445Z",
     "shell.execute_reply.started": "2021-12-01T23:48:26.170992Z"
    },
    "papermill": {
     "duration": 0.051234,
     "end_time": "2021-12-01T23:49:32.699626",
     "exception": false,
     "start_time": "2021-12-01T23:49:32.648392",
     "status": "completed"
    },
    "tags": []
   },
   "outputs": [
    {
     "data": {
      "text/html": [
       "<div>\n",
       "<style scoped>\n",
       "    .dataframe tbody tr th:only-of-type {\n",
       "        vertical-align: middle;\n",
       "    }\n",
       "\n",
       "    .dataframe tbody tr th {\n",
       "        vertical-align: top;\n",
       "    }\n",
       "\n",
       "    .dataframe thead th {\n",
       "        text-align: right;\n",
       "    }\n",
       "</style>\n",
       "<table border=\"1\" class=\"dataframe\">\n",
       "  <thead>\n",
       "    <tr style=\"text-align: right;\">\n",
       "      <th></th>\n",
       "      <th>id</th>\n",
       "      <th>age</th>\n",
       "      <th>workclass</th>\n",
       "      <th>fnlwgt</th>\n",
       "      <th>education</th>\n",
       "      <th>education.num</th>\n",
       "      <th>marital.status</th>\n",
       "      <th>occupation</th>\n",
       "      <th>relationship</th>\n",
       "      <th>race</th>\n",
       "      <th>sex</th>\n",
       "      <th>capital.gain</th>\n",
       "      <th>capital.loss</th>\n",
       "      <th>hours.per.week</th>\n",
       "      <th>native.country</th>\n",
       "    </tr>\n",
       "  </thead>\n",
       "  <tbody>\n",
       "    <tr>\n",
       "      <th>17270</th>\n",
       "      <td>17270</td>\n",
       "      <td>29</td>\n",
       "      <td>Local-gov</td>\n",
       "      <td>220656</td>\n",
       "      <td>Bachelors</td>\n",
       "      <td>13</td>\n",
       "      <td>Married-civ-spouse</td>\n",
       "      <td>Exec-managerial</td>\n",
       "      <td>Husband</td>\n",
       "      <td>Black</td>\n",
       "      <td>Male</td>\n",
       "      <td>0</td>\n",
       "      <td>0</td>\n",
       "      <td>40</td>\n",
       "      <td>United-States</td>\n",
       "    </tr>\n",
       "    <tr>\n",
       "      <th>26959</th>\n",
       "      <td>26959</td>\n",
       "      <td>44</td>\n",
       "      <td>Private</td>\n",
       "      <td>98211</td>\n",
       "      <td>Bachelors</td>\n",
       "      <td>13</td>\n",
       "      <td>Married-civ-spouse</td>\n",
       "      <td>Transport-moving</td>\n",
       "      <td>Husband</td>\n",
       "      <td>White</td>\n",
       "      <td>Male</td>\n",
       "      <td>0</td>\n",
       "      <td>0</td>\n",
       "      <td>55</td>\n",
       "      <td>United-States</td>\n",
       "    </tr>\n",
       "    <tr>\n",
       "      <th>7632</th>\n",
       "      <td>7632</td>\n",
       "      <td>37</td>\n",
       "      <td>Private</td>\n",
       "      <td>203828</td>\n",
       "      <td>9th</td>\n",
       "      <td>5</td>\n",
       "      <td>Married-civ-spouse</td>\n",
       "      <td>Craft-repair</td>\n",
       "      <td>Husband</td>\n",
       "      <td>White</td>\n",
       "      <td>Male</td>\n",
       "      <td>0</td>\n",
       "      <td>0</td>\n",
       "      <td>40</td>\n",
       "      <td>United-States</td>\n",
       "    </tr>\n",
       "    <tr>\n",
       "      <th>27877</th>\n",
       "      <td>27877</td>\n",
       "      <td>38</td>\n",
       "      <td>Federal-gov</td>\n",
       "      <td>261241</td>\n",
       "      <td>Some-college</td>\n",
       "      <td>10</td>\n",
       "      <td>Married-civ-spouse</td>\n",
       "      <td>Adm-clerical</td>\n",
       "      <td>Husband</td>\n",
       "      <td>White</td>\n",
       "      <td>Male</td>\n",
       "      <td>0</td>\n",
       "      <td>0</td>\n",
       "      <td>45</td>\n",
       "      <td>United-States</td>\n",
       "    </tr>\n",
       "    <tr>\n",
       "      <th>17508</th>\n",
       "      <td>17508</td>\n",
       "      <td>36</td>\n",
       "      <td>Private</td>\n",
       "      <td>192614</td>\n",
       "      <td>HS-grad</td>\n",
       "      <td>9</td>\n",
       "      <td>Divorced</td>\n",
       "      <td>Machine-op-inspct</td>\n",
       "      <td>Not-in-family</td>\n",
       "      <td>White</td>\n",
       "      <td>Male</td>\n",
       "      <td>0</td>\n",
       "      <td>0</td>\n",
       "      <td>56</td>\n",
       "      <td>United-States</td>\n",
       "    </tr>\n",
       "  </tbody>\n",
       "</table>\n",
       "</div>"
      ],
      "text/plain": [
       "          id  age     workclass  fnlwgt      education  education.num  \\\n",
       "17270  17270   29     Local-gov  220656      Bachelors             13   \n",
       "26959  26959   44       Private   98211      Bachelors             13   \n",
       "7632    7632   37       Private  203828            9th              5   \n",
       "27877  27877   38   Federal-gov  261241   Some-college             10   \n",
       "17508  17508   36       Private  192614        HS-grad              9   \n",
       "\n",
       "            marital.status          occupation    relationship    race    sex  \\\n",
       "17270   Married-civ-spouse     Exec-managerial         Husband   Black   Male   \n",
       "26959   Married-civ-spouse    Transport-moving         Husband   White   Male   \n",
       "7632    Married-civ-spouse        Craft-repair         Husband   White   Male   \n",
       "27877   Married-civ-spouse        Adm-clerical         Husband   White   Male   \n",
       "17508             Divorced   Machine-op-inspct   Not-in-family   White   Male   \n",
       "\n",
       "       capital.gain  capital.loss  hours.per.week  native.country  \n",
       "17270             0             0              40   United-States  \n",
       "26959             0             0              55   United-States  \n",
       "7632              0             0              40   United-States  \n",
       "27877             0             0              45   United-States  \n",
       "17508             0             0              56   United-States  "
      ]
     },
     "execution_count": 99,
     "metadata": {},
     "output_type": "execute_result"
    }
   ],
   "source": [
    "\n",
    "X_train.head()"
   ]
  },
  {
   "cell_type": "code",
   "execution_count": 100,
   "id": "719d808a",
   "metadata": {
    "execution": {
     "iopub.execute_input": "2021-12-01T23:49:32.763062Z",
     "iopub.status.busy": "2021-12-01T23:49:32.762357Z",
     "iopub.status.idle": "2021-12-01T23:49:32.775779Z",
     "shell.execute_reply": "2021-12-01T23:49:32.776322Z",
     "shell.execute_reply.started": "2021-12-01T23:48:26.195139Z"
    },
    "papermill": {
     "duration": 0.046232,
     "end_time": "2021-12-01T23:49:32.776529",
     "exception": false,
     "start_time": "2021-12-01T23:49:32.730297",
     "status": "completed"
    },
    "tags": []
   },
   "outputs": [
    {
     "data": {
      "text/plain": [
       " <=50K    19717\n",
       " >50K      6331\n",
       "Name: income, dtype: int64"
      ]
     },
     "execution_count": 100,
     "metadata": {},
     "output_type": "execute_result"
    }
   ],
   "source": [
    "\n",
    "y_train['income'].value_counts()"
   ]
  },
  {
   "cell_type": "code",
   "execution_count": 101,
   "id": "f565e121",
   "metadata": {
    "execution": {
     "iopub.execute_input": "2021-12-01T23:49:32.840626Z",
     "iopub.status.busy": "2021-12-01T23:49:32.839917Z",
     "iopub.status.idle": "2021-12-01T23:49:32.879401Z",
     "shell.execute_reply": "2021-12-01T23:49:32.880127Z",
     "shell.execute_reply.started": "2021-12-01T23:48:26.205843Z"
    },
    "papermill": {
     "duration": 0.073832,
     "end_time": "2021-12-01T23:49:32.880368",
     "exception": false,
     "start_time": "2021-12-01T23:49:32.806536",
     "status": "completed"
    },
    "tags": []
   },
   "outputs": [
    {
     "name": "stdout",
     "output_type": "stream",
     "text": [
      "<class 'pandas.core.frame.DataFrame'>\n",
      "Int64Index: 26048 entries, 17270 to 25716\n",
      "Data columns (total 15 columns):\n",
      " #   Column          Non-Null Count  Dtype \n",
      "---  ------          --------------  ----- \n",
      " 0   id              26048 non-null  int64 \n",
      " 1   age             26048 non-null  int64 \n",
      " 2   workclass       26048 non-null  object\n",
      " 3   fnlwgt          26048 non-null  int64 \n",
      " 4   education       26048 non-null  object\n",
      " 5   education.num   26048 non-null  int64 \n",
      " 6   marital.status  26048 non-null  object\n",
      " 7   occupation      26048 non-null  object\n",
      " 8   relationship    26048 non-null  object\n",
      " 9   race            26048 non-null  object\n",
      " 10  sex             26048 non-null  object\n",
      " 11  capital.gain    26048 non-null  int64 \n",
      " 12  capital.loss    26048 non-null  int64 \n",
      " 13  hours.per.week  26048 non-null  int64 \n",
      " 14  native.country  26048 non-null  object\n",
      "dtypes: int64(7), object(8)\n",
      "memory usage: 3.2+ MB\n"
     ]
    }
   ],
   "source": [
    "\n",
    "X_train.info()"
   ]
  },
  {
   "cell_type": "code",
   "execution_count": 102,
   "id": "a4f2f575",
   "metadata": {
    "execution": {
     "iopub.execute_input": "2021-12-01T23:49:32.948523Z",
     "iopub.status.busy": "2021-12-01T23:49:32.947606Z",
     "iopub.status.idle": "2021-12-01T23:49:32.950590Z",
     "shell.execute_reply": "2021-12-01T23:49:32.950024Z",
     "shell.execute_reply.started": "2021-12-01T23:48:26.247165Z"
    },
    "papermill": {
     "duration": 0.039261,
     "end_time": "2021-12-01T23:49:32.950747",
     "exception": false,
     "start_time": "2021-12-01T23:49:32.911486",
     "status": "completed"
    },
    "tags": []
   },
   "outputs": [],
   "source": [
    "\n",
    "# Numeric features\n",
    "numeric_features = [\n",
    "                    'age',\n",
    "                    'fnlwgt', \n",
    "                    'education.num',\n",
    "                    'capital.gain', \n",
    "                    'capital.loss', \n",
    "                    'hours.per.week',                     \n",
    "                   ]\n",
    "\n",
    "# Categorical features\n",
    "cat_features = [\n",
    "                 'workclass',              \n",
    "                 'education',            \n",
    "                 'marital.status', \n",
    "                 'occupation', \n",
    "                 'relationship', \n",
    "                 'race', \n",
    "                 'sex',\n",
    "                 'native.country'\n",
    "]"
   ]
  },
  {
   "cell_type": "markdown",
   "id": "6dd8647b",
   "metadata": {},
   "source": [
    "# Describing Dataset"
   ]
  },
  {
   "cell_type": "code",
   "execution_count": 103,
   "id": "37d099cd",
   "metadata": {
    "execution": {
     "iopub.execute_input": "2021-12-01T23:49:33.022283Z",
     "iopub.status.busy": "2021-12-01T23:49:33.021592Z",
     "iopub.status.idle": "2021-12-01T23:49:33.050530Z",
     "shell.execute_reply": "2021-12-01T23:49:33.051193Z",
     "shell.execute_reply.started": "2021-12-01T23:48:26.255072Z"
    },
    "papermill": {
     "duration": 0.070353,
     "end_time": "2021-12-01T23:49:33.051390",
     "exception": false,
     "start_time": "2021-12-01T23:49:32.981037",
     "status": "completed"
    },
    "tags": []
   },
   "outputs": [
    {
     "data": {
      "text/html": [
       "<div>\n",
       "<style scoped>\n",
       "    .dataframe tbody tr th:only-of-type {\n",
       "        vertical-align: middle;\n",
       "    }\n",
       "\n",
       "    .dataframe tbody tr th {\n",
       "        vertical-align: top;\n",
       "    }\n",
       "\n",
       "    .dataframe thead th {\n",
       "        text-align: right;\n",
       "    }\n",
       "</style>\n",
       "<table border=\"1\" class=\"dataframe\">\n",
       "  <thead>\n",
       "    <tr style=\"text-align: right;\">\n",
       "      <th></th>\n",
       "      <th>age</th>\n",
       "      <th>fnlwgt</th>\n",
       "      <th>education.num</th>\n",
       "      <th>capital.gain</th>\n",
       "      <th>capital.loss</th>\n",
       "      <th>hours.per.week</th>\n",
       "    </tr>\n",
       "  </thead>\n",
       "  <tbody>\n",
       "    <tr>\n",
       "      <th>count</th>\n",
       "      <td>26048.000000</td>\n",
       "      <td>2.604800e+04</td>\n",
       "      <td>26048.000000</td>\n",
       "      <td>26048.000000</td>\n",
       "      <td>26048.000000</td>\n",
       "      <td>26048.000000</td>\n",
       "    </tr>\n",
       "    <tr>\n",
       "      <th>mean</th>\n",
       "      <td>38.532325</td>\n",
       "      <td>1.896543e+05</td>\n",
       "      <td>10.081465</td>\n",
       "      <td>1067.640894</td>\n",
       "      <td>87.107839</td>\n",
       "      <td>40.439458</td>\n",
       "    </tr>\n",
       "    <tr>\n",
       "      <th>std</th>\n",
       "      <td>13.629332</td>\n",
       "      <td>1.048863e+05</td>\n",
       "      <td>2.566960</td>\n",
       "      <td>7304.887117</td>\n",
       "      <td>401.255703</td>\n",
       "      <td>12.300437</td>\n",
       "    </tr>\n",
       "    <tr>\n",
       "      <th>min</th>\n",
       "      <td>17.000000</td>\n",
       "      <td>1.228500e+04</td>\n",
       "      <td>1.000000</td>\n",
       "      <td>0.000000</td>\n",
       "      <td>0.000000</td>\n",
       "      <td>1.000000</td>\n",
       "    </tr>\n",
       "    <tr>\n",
       "      <th>25%</th>\n",
       "      <td>28.000000</td>\n",
       "      <td>1.177652e+05</td>\n",
       "      <td>9.000000</td>\n",
       "      <td>0.000000</td>\n",
       "      <td>0.000000</td>\n",
       "      <td>40.000000</td>\n",
       "    </tr>\n",
       "    <tr>\n",
       "      <th>50%</th>\n",
       "      <td>37.000000</td>\n",
       "      <td>1.786440e+05</td>\n",
       "      <td>10.000000</td>\n",
       "      <td>0.000000</td>\n",
       "      <td>0.000000</td>\n",
       "      <td>40.000000</td>\n",
       "    </tr>\n",
       "    <tr>\n",
       "      <th>75%</th>\n",
       "      <td>47.000000</td>\n",
       "      <td>2.369932e+05</td>\n",
       "      <td>12.000000</td>\n",
       "      <td>0.000000</td>\n",
       "      <td>0.000000</td>\n",
       "      <td>45.000000</td>\n",
       "    </tr>\n",
       "    <tr>\n",
       "      <th>max</th>\n",
       "      <td>90.000000</td>\n",
       "      <td>1.484705e+06</td>\n",
       "      <td>16.000000</td>\n",
       "      <td>99999.000000</td>\n",
       "      <td>4356.000000</td>\n",
       "      <td>99.000000</td>\n",
       "    </tr>\n",
       "  </tbody>\n",
       "</table>\n",
       "</div>"
      ],
      "text/plain": [
       "                age        fnlwgt  education.num  capital.gain  capital.loss  \\\n",
       "count  26048.000000  2.604800e+04   26048.000000  26048.000000  26048.000000   \n",
       "mean      38.532325  1.896543e+05      10.081465   1067.640894     87.107839   \n",
       "std       13.629332  1.048863e+05       2.566960   7304.887117    401.255703   \n",
       "min       17.000000  1.228500e+04       1.000000      0.000000      0.000000   \n",
       "25%       28.000000  1.177652e+05       9.000000      0.000000      0.000000   \n",
       "50%       37.000000  1.786440e+05      10.000000      0.000000      0.000000   \n",
       "75%       47.000000  2.369932e+05      12.000000      0.000000      0.000000   \n",
       "max       90.000000  1.484705e+06      16.000000  99999.000000   4356.000000   \n",
       "\n",
       "       hours.per.week  \n",
       "count    26048.000000  \n",
       "mean        40.439458  \n",
       "std         12.300437  \n",
       "min          1.000000  \n",
       "25%         40.000000  \n",
       "50%         40.000000  \n",
       "75%         45.000000  \n",
       "max         99.000000  "
      ]
     },
     "execution_count": 103,
     "metadata": {},
     "output_type": "execute_result"
    }
   ],
   "source": [
    "X_train[numeric_features].describe()"
   ]
  },
  {
   "cell_type": "code",
   "execution_count": 104,
   "id": "a5b19fac",
   "metadata": {
    "execution": {
     "iopub.execute_input": "2021-12-01T23:49:33.119763Z",
     "iopub.status.busy": "2021-12-01T23:49:33.118779Z",
     "iopub.status.idle": "2021-12-01T23:49:33.192211Z",
     "shell.execute_reply": "2021-12-01T23:49:33.191577Z",
     "shell.execute_reply.started": "2021-12-01T23:48:26.288451Z"
    },
    "papermill": {
     "duration": 0.10972,
     "end_time": "2021-12-01T23:49:33.192380",
     "exception": false,
     "start_time": "2021-12-01T23:49:33.082660",
     "status": "completed"
    },
    "scrolled": true,
    "tags": []
   },
   "outputs": [
    {
     "data": {
      "text/html": [
       "<div>\n",
       "<style scoped>\n",
       "    .dataframe tbody tr th:only-of-type {\n",
       "        vertical-align: middle;\n",
       "    }\n",
       "\n",
       "    .dataframe tbody tr th {\n",
       "        vertical-align: top;\n",
       "    }\n",
       "\n",
       "    .dataframe thead th {\n",
       "        text-align: right;\n",
       "    }\n",
       "</style>\n",
       "<table border=\"1\" class=\"dataframe\">\n",
       "  <thead>\n",
       "    <tr style=\"text-align: right;\">\n",
       "      <th></th>\n",
       "      <th>workclass</th>\n",
       "      <th>education</th>\n",
       "      <th>marital.status</th>\n",
       "      <th>occupation</th>\n",
       "      <th>relationship</th>\n",
       "      <th>race</th>\n",
       "      <th>sex</th>\n",
       "      <th>native.country</th>\n",
       "    </tr>\n",
       "  </thead>\n",
       "  <tbody>\n",
       "    <tr>\n",
       "      <th>count</th>\n",
       "      <td>26048</td>\n",
       "      <td>26048</td>\n",
       "      <td>26048</td>\n",
       "      <td>26048</td>\n",
       "      <td>26048</td>\n",
       "      <td>26048</td>\n",
       "      <td>26048</td>\n",
       "      <td>26048</td>\n",
       "    </tr>\n",
       "    <tr>\n",
       "      <th>unique</th>\n",
       "      <td>9</td>\n",
       "      <td>16</td>\n",
       "      <td>7</td>\n",
       "      <td>15</td>\n",
       "      <td>6</td>\n",
       "      <td>5</td>\n",
       "      <td>2</td>\n",
       "      <td>41</td>\n",
       "    </tr>\n",
       "    <tr>\n",
       "      <th>top</th>\n",
       "      <td>Private</td>\n",
       "      <td>HS-grad</td>\n",
       "      <td>Married-civ-spouse</td>\n",
       "      <td>Prof-specialty</td>\n",
       "      <td>Husband</td>\n",
       "      <td>White</td>\n",
       "      <td>Male</td>\n",
       "      <td>United-States</td>\n",
       "    </tr>\n",
       "    <tr>\n",
       "      <th>freq</th>\n",
       "      <td>18220</td>\n",
       "      <td>8417</td>\n",
       "      <td>12054</td>\n",
       "      <td>3288</td>\n",
       "      <td>10628</td>\n",
       "      <td>22267</td>\n",
       "      <td>17477</td>\n",
       "      <td>23386</td>\n",
       "    </tr>\n",
       "  </tbody>\n",
       "</table>\n",
       "</div>"
      ],
      "text/plain": [
       "       workclass education       marital.status       occupation relationship  \\\n",
       "count      26048     26048                26048            26048        26048   \n",
       "unique         9        16                    7               15            6   \n",
       "top      Private   HS-grad   Married-civ-spouse   Prof-specialty      Husband   \n",
       "freq       18220      8417                12054             3288        10628   \n",
       "\n",
       "          race    sex  native.country  \n",
       "count    26048  26048           26048  \n",
       "unique       5      2              41  \n",
       "top      White   Male   United-States  \n",
       "freq     22267  17477           23386  "
      ]
     },
     "execution_count": 104,
     "metadata": {},
     "output_type": "execute_result"
    }
   ],
   "source": [
    "X_train[cat_features].describe()"
   ]
  },
  {
   "cell_type": "markdown",
   "id": "c371b065",
   "metadata": {},
   "source": [
    "# Null value Check"
   ]
  },
  {
   "cell_type": "code",
   "execution_count": 105,
   "id": "8921e25d",
   "metadata": {
    "execution": {
     "iopub.execute_input": "2021-12-01T23:49:33.350474Z",
     "iopub.status.busy": "2021-12-01T23:49:33.349447Z",
     "iopub.status.idle": "2021-12-01T23:49:33.357331Z",
     "shell.execute_reply": "2021-12-01T23:49:33.356604Z",
     "shell.execute_reply.started": "2021-12-01T23:48:26.329546Z"
    },
    "papermill": {
     "duration": 0.066836,
     "end_time": "2021-12-01T23:49:33.357519",
     "exception": false,
     "start_time": "2021-12-01T23:49:33.290683",
     "status": "completed"
    },
    "tags": []
   },
   "outputs": [
    {
     "data": {
      "text/plain": [
       "id                0\n",
       "age               0\n",
       "workclass         0\n",
       "fnlwgt            0\n",
       "education         0\n",
       "education.num     0\n",
       "marital.status    0\n",
       "occupation        0\n",
       "relationship      0\n",
       "race              0\n",
       "sex               0\n",
       "capital.gain      0\n",
       "capital.loss      0\n",
       "hours.per.week    0\n",
       "native.country    0\n",
       "dtype: int64"
      ]
     },
     "execution_count": 105,
     "metadata": {},
     "output_type": "execute_result"
    }
   ],
   "source": [
    "X_train.isnull().sum()"
   ]
  },
  {
   "cell_type": "code",
   "execution_count": 106,
   "id": "5c331b9a",
   "metadata": {
    "execution": {
     "iopub.execute_input": "2021-12-01T23:49:33.424360Z",
     "iopub.status.busy": "2021-12-01T23:49:33.423719Z",
     "iopub.status.idle": "2021-12-01T23:49:33.437491Z",
     "shell.execute_reply": "2021-12-01T23:49:33.437959Z",
     "shell.execute_reply.started": "2021-12-01T23:48:26.358079Z"
    },
    "papermill": {
     "duration": 0.048467,
     "end_time": "2021-12-01T23:49:33.438143",
     "exception": false,
     "start_time": "2021-12-01T23:49:33.389676",
     "status": "completed"
    },
    "tags": []
   },
   "outputs": [
    {
     "data": {
      "text/plain": [
       "id                0\n",
       "age               0\n",
       "workclass         0\n",
       "fnlwgt            0\n",
       "education         0\n",
       "education.num     0\n",
       "marital.status    0\n",
       "occupation        0\n",
       "relationship      0\n",
       "race              0\n",
       "sex               0\n",
       "capital.gain      0\n",
       "capital.loss      0\n",
       "hours.per.week    0\n",
       "native.country    0\n",
       "dtype: int64"
      ]
     },
     "execution_count": 106,
     "metadata": {},
     "output_type": "execute_result"
    }
   ],
   "source": [
    "X_test.isnull().sum()"
   ]
  },
  {
   "cell_type": "code",
   "execution_count": 107,
   "id": "4e23b597",
   "metadata": {
    "execution": {
     "iopub.execute_input": "2021-12-01T23:49:33.512299Z",
     "iopub.status.busy": "2021-12-01T23:49:33.511488Z",
     "iopub.status.idle": "2021-12-01T23:49:33.514596Z",
     "shell.execute_reply": "2021-12-01T23:49:33.515080Z",
     "shell.execute_reply.started": "2021-12-01T23:48:26.380415Z"
    },
    "papermill": {
     "duration": 0.045432,
     "end_time": "2021-12-01T23:49:33.515256",
     "exception": false,
     "start_time": "2021-12-01T23:49:33.469824",
     "status": "completed"
    },
    "tags": []
   },
   "outputs": [
    {
     "data": {
      "text/plain": [
       " Private             18220\n",
       " Self-emp-not-inc     1995\n",
       " Local-gov            1661\n",
       " ?                    1448\n",
       " State-gov            1034\n",
       " Self-emp-inc          887\n",
       " Federal-gov           788\n",
       " Without-pay             8\n",
       " Never-worked            7\n",
       "Name: workclass, dtype: int64"
      ]
     },
     "execution_count": 107,
     "metadata": {},
     "output_type": "execute_result"
    }
   ],
   "source": [
    "X_train['workclass'].value_counts()"
   ]
  },
  {
   "cell_type": "code",
   "execution_count": 108,
   "id": "2c7b6cf5",
   "metadata": {
    "execution": {
     "iopub.execute_input": "2021-12-01T23:49:33.590602Z",
     "iopub.status.busy": "2021-12-01T23:49:33.589892Z",
     "iopub.status.idle": "2021-12-01T23:49:33.592418Z",
     "shell.execute_reply": "2021-12-01T23:49:33.592955Z",
     "shell.execute_reply.started": "2021-12-01T23:48:26.392710Z"
    },
    "papermill": {
     "duration": 0.045574,
     "end_time": "2021-12-01T23:49:33.593125",
     "exception": false,
     "start_time": "2021-12-01T23:49:33.547551",
     "status": "completed"
    },
    "tags": []
   },
   "outputs": [
    {
     "data": {
      "text/plain": [
       " Prof-specialty       3288\n",
       " Craft-repair         3288\n",
       " Exec-managerial      3238\n",
       " Adm-clerical         3051\n",
       " Sales                2901\n",
       " Other-service        2620\n",
       " Machine-op-inspct    1614\n",
       " ?                    1455\n",
       " Transport-moving     1304\n",
       " Handlers-cleaners    1110\n",
       " Farming-fishing       793\n",
       " Tech-support          734\n",
       " Protective-serv       525\n",
       " Priv-house-serv       119\n",
       " Armed-Forces            8\n",
       "Name: occupation, dtype: int64"
      ]
     },
     "execution_count": 108,
     "metadata": {},
     "output_type": "execute_result"
    }
   ],
   "source": [
    "X_train['occupation'].value_counts()"
   ]
  },
  {
   "cell_type": "code",
   "execution_count": 109,
   "id": "2b9a9a1b",
   "metadata": {
    "execution": {
     "iopub.execute_input": "2021-12-01T23:49:33.662738Z",
     "iopub.status.busy": "2021-12-01T23:49:33.662026Z",
     "iopub.status.idle": "2021-12-01T23:49:33.672772Z",
     "shell.execute_reply": "2021-12-01T23:49:33.673360Z",
     "shell.execute_reply.started": "2021-12-01T23:48:26.403529Z"
    },
    "papermill": {
     "duration": 0.047577,
     "end_time": "2021-12-01T23:49:33.673537",
     "exception": false,
     "start_time": "2021-12-01T23:49:33.625960",
     "status": "completed"
    },
    "tags": []
   },
   "outputs": [
    {
     "data": {
      "text/plain": [
       " United-States                 23386\n",
       " Mexico                          510\n",
       " ?                               463\n",
       " Philippines                     155\n",
       " Germany                         109\n",
       " Canada                          103\n",
       " Puerto-Rico                      90\n",
       " India                            80\n",
       " El-Salvador                      77\n",
       " Cuba                             74\n",
       " England                          73\n",
       " Jamaica                          63\n",
       " South                            63\n",
       " China                            59\n",
       " Italy                            58\n",
       " Dominican-Republic               55\n",
       " Vietnam                          51\n",
       " Guatemala                        50\n",
       " Japan                            48\n",
       " Poland                           46\n",
       " Columbia                         45\n",
       " Taiwan                           38\n",
       " Iran                             35\n",
       " Haiti                            34\n",
       " Portugal                         29\n",
       " Ecuador                          23\n",
       " Nicaragua                        23\n",
       " Peru                             23\n",
       " France                           21\n",
       " Greece                           20\n",
       " Cambodia                         17\n",
       " Thailand                         16\n",
       " Trinadad&Tobago                  16\n",
       " Ireland                          16\n",
       " Hong                             16\n",
       " Laos                             13\n",
       " Scotland                         12\n",
       " Yugoslavia                       11\n",
       " Outlying-US(Guam-USVI-etc)       10\n",
       " Honduras                          9\n",
       " Hungary                           8\n",
       "Name: native.country, dtype: int64"
      ]
     },
     "execution_count": 109,
     "metadata": {},
     "output_type": "execute_result"
    }
   ],
   "source": [
    "X_train['native.country'].value_counts()"
   ]
  },
  {
   "cell_type": "code",
   "execution_count": 110,
   "id": "fae66f1f",
   "metadata": {
    "execution": {
     "iopub.execute_input": "2021-12-01T23:49:33.814961Z",
     "iopub.status.busy": "2021-12-01T23:49:33.814278Z",
     "iopub.status.idle": "2021-12-01T23:49:33.871132Z",
     "shell.execute_reply": "2021-12-01T23:49:33.871759Z",
     "shell.execute_reply.started": "2021-12-01T23:48:26.415250Z"
    },
    "papermill": {
     "duration": 0.094211,
     "end_time": "2021-12-01T23:49:33.871931",
     "exception": false,
     "start_time": "2021-12-01T23:49:33.777720",
     "status": "completed"
    },
    "scrolled": true,
    "tags": []
   },
   "outputs": [
    {
     "data": {
      "text/plain": [
       "id                0\n",
       "age               0\n",
       "workclass         0\n",
       "fnlwgt            0\n",
       "education         0\n",
       "education.num     0\n",
       "marital.status    0\n",
       "occupation        0\n",
       "relationship      0\n",
       "race              0\n",
       "sex               0\n",
       "capital.gain      0\n",
       "capital.loss      0\n",
       "hours.per.week    0\n",
       "native.country    0\n",
       "dtype: int64"
      ]
     },
     "execution_count": 110,
     "metadata": {},
     "output_type": "execute_result"
    }
   ],
   "source": [
    "def data_fillna(df):\n",
    "    df['workclass'] = df['workclass'].fillna(df['workclass'].mode()[0])\n",
    "    df['occupation'] = df['occupation'].fillna(\"null\")\n",
    "    df['native.country'] = df[\"native.country\"].fillna(df['native.country'].mode()[0])\n",
    "    return df\n",
    "\n",
    "X_train = data_fillna(X_train)\n",
    "X_test = data_fillna(X_test)\n",
    "\n",
    "X_train.isnull().sum()"
   ]
  },
  {
   "cell_type": "markdown",
   "id": "e339fdd3",
   "metadata": {},
   "source": [
    "# Model Implementation"
   ]
  },
  {
   "cell_type": "code",
   "execution_count": 111,
   "id": "2e08cd69",
   "metadata": {
    "execution": {
     "iopub.execute_input": "2021-12-01T23:49:34.012926Z",
     "iopub.status.busy": "2021-12-01T23:49:34.012176Z",
     "iopub.status.idle": "2021-12-01T23:49:34.175138Z",
     "shell.execute_reply": "2021-12-01T23:49:34.175704Z",
     "shell.execute_reply.started": "2021-12-01T23:48:26.449897Z"
    },
    "papermill": {
     "duration": 0.199909,
     "end_time": "2021-12-01T23:49:34.175881",
     "exception": false,
     "start_time": "2021-12-01T23:49:33.975972",
     "status": "completed"
    },
    "tags": []
   },
   "outputs": [
    {
     "data": {
      "text/html": [
       "<div>\n",
       "<style scoped>\n",
       "    .dataframe tbody tr th:only-of-type {\n",
       "        vertical-align: middle;\n",
       "    }\n",
       "\n",
       "    .dataframe tbody tr th {\n",
       "        vertical-align: top;\n",
       "    }\n",
       "\n",
       "    .dataframe thead th {\n",
       "        text-align: right;\n",
       "    }\n",
       "</style>\n",
       "<table border=\"1\" class=\"dataframe\">\n",
       "  <thead>\n",
       "    <tr style=\"text-align: right;\">\n",
       "      <th></th>\n",
       "      <th>id</th>\n",
       "      <th>age</th>\n",
       "      <th>workclass</th>\n",
       "      <th>fnlwgt</th>\n",
       "      <th>education</th>\n",
       "      <th>education.num</th>\n",
       "      <th>marital.status</th>\n",
       "      <th>occupation</th>\n",
       "      <th>relationship</th>\n",
       "      <th>race</th>\n",
       "      <th>sex</th>\n",
       "      <th>capital.gain</th>\n",
       "      <th>capital.loss</th>\n",
       "      <th>hours.per.week</th>\n",
       "      <th>native.country</th>\n",
       "    </tr>\n",
       "  </thead>\n",
       "  <tbody>\n",
       "    <tr>\n",
       "      <th>17960</th>\n",
       "      <td>17960</td>\n",
       "      <td>37</td>\n",
       "      <td>4</td>\n",
       "      <td>215476</td>\n",
       "      <td>11</td>\n",
       "      <td>9</td>\n",
       "      <td>4</td>\n",
       "      <td>6</td>\n",
       "      <td>4</td>\n",
       "      <td>2</td>\n",
       "      <td>0</td>\n",
       "      <td>0</td>\n",
       "      <td>0</td>\n",
       "      <td>30</td>\n",
       "      <td>39</td>\n",
       "    </tr>\n",
       "    <tr>\n",
       "      <th>14169</th>\n",
       "      <td>14169</td>\n",
       "      <td>49</td>\n",
       "      <td>4</td>\n",
       "      <td>28791</td>\n",
       "      <td>15</td>\n",
       "      <td>10</td>\n",
       "      <td>0</td>\n",
       "      <td>8</td>\n",
       "      <td>1</td>\n",
       "      <td>4</td>\n",
       "      <td>0</td>\n",
       "      <td>0</td>\n",
       "      <td>0</td>\n",
       "      <td>40</td>\n",
       "      <td>39</td>\n",
       "    </tr>\n",
       "    <tr>\n",
       "      <th>1776</th>\n",
       "      <td>1776</td>\n",
       "      <td>59</td>\n",
       "      <td>2</td>\n",
       "      <td>147707</td>\n",
       "      <td>11</td>\n",
       "      <td>9</td>\n",
       "      <td>6</td>\n",
       "      <td>5</td>\n",
       "      <td>4</td>\n",
       "      <td>4</td>\n",
       "      <td>1</td>\n",
       "      <td>0</td>\n",
       "      <td>2339</td>\n",
       "      <td>40</td>\n",
       "      <td>39</td>\n",
       "    </tr>\n",
       "    <tr>\n",
       "      <th>29410</th>\n",
       "      <td>29410</td>\n",
       "      <td>27</td>\n",
       "      <td>4</td>\n",
       "      <td>279580</td>\n",
       "      <td>9</td>\n",
       "      <td>13</td>\n",
       "      <td>4</td>\n",
       "      <td>12</td>\n",
       "      <td>1</td>\n",
       "      <td>4</td>\n",
       "      <td>1</td>\n",
       "      <td>10520</td>\n",
       "      <td>0</td>\n",
       "      <td>45</td>\n",
       "      <td>39</td>\n",
       "    </tr>\n",
       "    <tr>\n",
       "      <th>8602</th>\n",
       "      <td>8602</td>\n",
       "      <td>62</td>\n",
       "      <td>2</td>\n",
       "      <td>407669</td>\n",
       "      <td>5</td>\n",
       "      <td>4</td>\n",
       "      <td>6</td>\n",
       "      <td>8</td>\n",
       "      <td>1</td>\n",
       "      <td>2</td>\n",
       "      <td>0</td>\n",
       "      <td>0</td>\n",
       "      <td>0</td>\n",
       "      <td>35</td>\n",
       "      <td>39</td>\n",
       "    </tr>\n",
       "    <tr>\n",
       "      <th>...</th>\n",
       "      <td>...</td>\n",
       "      <td>...</td>\n",
       "      <td>...</td>\n",
       "      <td>...</td>\n",
       "      <td>...</td>\n",
       "      <td>...</td>\n",
       "      <td>...</td>\n",
       "      <td>...</td>\n",
       "      <td>...</td>\n",
       "      <td>...</td>\n",
       "      <td>...</td>\n",
       "      <td>...</td>\n",
       "      <td>...</td>\n",
       "      <td>...</td>\n",
       "      <td>...</td>\n",
       "    </tr>\n",
       "    <tr>\n",
       "      <th>17277</th>\n",
       "      <td>17277</td>\n",
       "      <td>26</td>\n",
       "      <td>4</td>\n",
       "      <td>184026</td>\n",
       "      <td>15</td>\n",
       "      <td>10</td>\n",
       "      <td>4</td>\n",
       "      <td>10</td>\n",
       "      <td>1</td>\n",
       "      <td>3</td>\n",
       "      <td>1</td>\n",
       "      <td>0</td>\n",
       "      <td>0</td>\n",
       "      <td>50</td>\n",
       "      <td>39</td>\n",
       "    </tr>\n",
       "    <tr>\n",
       "      <th>31221</th>\n",
       "      <td>31221</td>\n",
       "      <td>30</td>\n",
       "      <td>4</td>\n",
       "      <td>297155</td>\n",
       "      <td>15</td>\n",
       "      <td>10</td>\n",
       "      <td>0</td>\n",
       "      <td>1</td>\n",
       "      <td>4</td>\n",
       "      <td>2</td>\n",
       "      <td>0</td>\n",
       "      <td>0</td>\n",
       "      <td>0</td>\n",
       "      <td>40</td>\n",
       "      <td>39</td>\n",
       "    </tr>\n",
       "    <tr>\n",
       "      <th>29979</th>\n",
       "      <td>29979</td>\n",
       "      <td>20</td>\n",
       "      <td>4</td>\n",
       "      <td>203027</td>\n",
       "      <td>11</td>\n",
       "      <td>9</td>\n",
       "      <td>4</td>\n",
       "      <td>5</td>\n",
       "      <td>1</td>\n",
       "      <td>4</td>\n",
       "      <td>1</td>\n",
       "      <td>0</td>\n",
       "      <td>0</td>\n",
       "      <td>55</td>\n",
       "      <td>39</td>\n",
       "    </tr>\n",
       "    <tr>\n",
       "      <th>20425</th>\n",
       "      <td>20425</td>\n",
       "      <td>24</td>\n",
       "      <td>4</td>\n",
       "      <td>210029</td>\n",
       "      <td>11</td>\n",
       "      <td>9</td>\n",
       "      <td>4</td>\n",
       "      <td>1</td>\n",
       "      <td>1</td>\n",
       "      <td>4</td>\n",
       "      <td>0</td>\n",
       "      <td>0</td>\n",
       "      <td>2001</td>\n",
       "      <td>37</td>\n",
       "      <td>39</td>\n",
       "    </tr>\n",
       "    <tr>\n",
       "      <th>2066</th>\n",
       "      <td>2066</td>\n",
       "      <td>66</td>\n",
       "      <td>4</td>\n",
       "      <td>98837</td>\n",
       "      <td>11</td>\n",
       "      <td>9</td>\n",
       "      <td>6</td>\n",
       "      <td>1</td>\n",
       "      <td>1</td>\n",
       "      <td>4</td>\n",
       "      <td>0</td>\n",
       "      <td>0</td>\n",
       "      <td>0</td>\n",
       "      <td>40</td>\n",
       "      <td>39</td>\n",
       "    </tr>\n",
       "  </tbody>\n",
       "</table>\n",
       "<p>6512 rows × 15 columns</p>\n",
       "</div>"
      ],
      "text/plain": [
       "          id  age  workclass  fnlwgt  education  education.num  \\\n",
       "17960  17960   37          4  215476         11              9   \n",
       "14169  14169   49          4   28791         15             10   \n",
       "1776    1776   59          2  147707         11              9   \n",
       "29410  29410   27          4  279580          9             13   \n",
       "8602    8602   62          2  407669          5              4   \n",
       "...      ...  ...        ...     ...        ...            ...   \n",
       "17277  17277   26          4  184026         15             10   \n",
       "31221  31221   30          4  297155         15             10   \n",
       "29979  29979   20          4  203027         11              9   \n",
       "20425  20425   24          4  210029         11              9   \n",
       "2066    2066   66          4   98837         11              9   \n",
       "\n",
       "       marital.status  occupation  relationship  race  sex  capital.gain  \\\n",
       "17960               4           6             4     2    0             0   \n",
       "14169               0           8             1     4    0             0   \n",
       "1776                6           5             4     4    1             0   \n",
       "29410               4          12             1     4    1         10520   \n",
       "8602                6           8             1     2    0             0   \n",
       "...               ...         ...           ...   ...  ...           ...   \n",
       "17277               4          10             1     3    1             0   \n",
       "31221               0           1             4     2    0             0   \n",
       "29979               4           5             1     4    1             0   \n",
       "20425               4           1             1     4    0             0   \n",
       "2066                6           1             1     4    0             0   \n",
       "\n",
       "       capital.loss  hours.per.week  native.country  \n",
       "17960             0              30              39  \n",
       "14169             0              40              39  \n",
       "1776           2339              40              39  \n",
       "29410             0              45              39  \n",
       "8602              0              35              39  \n",
       "...             ...             ...             ...  \n",
       "17277             0              50              39  \n",
       "31221             0              40              39  \n",
       "29979             0              55              39  \n",
       "20425          2001              37              39  \n",
       "2066              0              40              39  \n",
       "\n",
       "[6512 rows x 15 columns]"
      ]
     },
     "execution_count": 111,
     "metadata": {},
     "output_type": "execute_result"
    }
   ],
   "source": [
    "\n",
    "from sklearn.preprocessing import LabelEncoder\n",
    "\n",
    "all_df = pd.concat([X_train.assign(ind=\"train\"), X_test.assign(ind=\"test\")])\n",
    "le = LabelEncoder()\n",
    "all_df[cat_features] = all_df[cat_features].apply(le.fit_transform)\n",
    "\n",
    "X_train = all_df[all_df['ind'] == 'train']\n",
    "X_train = X_train.drop('ind',axis=1)\n",
    "X_train\n",
    "\n",
    "X_test = all_df[all_df['ind'] == 'test']\n",
    "X_test = X_test.drop('ind',axis=1)\n",
    "X_test"
   ]
  },
  {
   "cell_type": "code",
   "execution_count": 112,
   "id": "dc62481d",
   "metadata": {
    "execution": {
     "iopub.execute_input": "2021-12-01T23:49:34.250268Z",
     "iopub.status.busy": "2021-12-01T23:49:34.249589Z",
     "iopub.status.idle": "2021-12-01T23:49:34.289958Z",
     "shell.execute_reply": "2021-12-01T23:49:34.289329Z",
     "shell.execute_reply.started": "2021-12-01T23:48:26.541500Z"
    },
    "papermill": {
     "duration": 0.077931,
     "end_time": "2021-12-01T23:49:34.290104",
     "exception": false,
     "start_time": "2021-12-01T23:49:34.212173",
     "status": "completed"
    },
    "tags": []
   },
   "outputs": [
    {
     "data": {
      "text/html": [
       "<div>\n",
       "<style scoped>\n",
       "    .dataframe tbody tr th:only-of-type {\n",
       "        vertical-align: middle;\n",
       "    }\n",
       "\n",
       "    .dataframe tbody tr th {\n",
       "        vertical-align: top;\n",
       "    }\n",
       "\n",
       "    .dataframe thead th {\n",
       "        text-align: right;\n",
       "    }\n",
       "</style>\n",
       "<table border=\"1\" class=\"dataframe\">\n",
       "  <thead>\n",
       "    <tr style=\"text-align: right;\">\n",
       "      <th></th>\n",
       "      <th>id</th>\n",
       "      <th>age</th>\n",
       "      <th>workclass</th>\n",
       "      <th>fnlwgt</th>\n",
       "      <th>education</th>\n",
       "      <th>education.num</th>\n",
       "      <th>marital.status</th>\n",
       "      <th>occupation</th>\n",
       "      <th>relationship</th>\n",
       "      <th>race</th>\n",
       "      <th>sex</th>\n",
       "      <th>capital.gain</th>\n",
       "      <th>capital.loss</th>\n",
       "      <th>hours.per.week</th>\n",
       "      <th>native.country</th>\n",
       "    </tr>\n",
       "  </thead>\n",
       "  <tbody>\n",
       "    <tr>\n",
       "      <th>17270</th>\n",
       "      <td>17270</td>\n",
       "      <td>0.164384</td>\n",
       "      <td>2</td>\n",
       "      <td>0.141516</td>\n",
       "      <td>9</td>\n",
       "      <td>0.800000</td>\n",
       "      <td>2</td>\n",
       "      <td>4</td>\n",
       "      <td>0</td>\n",
       "      <td>2</td>\n",
       "      <td>1</td>\n",
       "      <td>0.00000</td>\n",
       "      <td>0.0</td>\n",
       "      <td>0.397959</td>\n",
       "      <td>39</td>\n",
       "    </tr>\n",
       "    <tr>\n",
       "      <th>26959</th>\n",
       "      <td>26959</td>\n",
       "      <td>0.369863</td>\n",
       "      <td>4</td>\n",
       "      <td>0.058357</td>\n",
       "      <td>9</td>\n",
       "      <td>0.800000</td>\n",
       "      <td>2</td>\n",
       "      <td>14</td>\n",
       "      <td>0</td>\n",
       "      <td>4</td>\n",
       "      <td>1</td>\n",
       "      <td>0.00000</td>\n",
       "      <td>0.0</td>\n",
       "      <td>0.551020</td>\n",
       "      <td>39</td>\n",
       "    </tr>\n",
       "    <tr>\n",
       "      <th>7632</th>\n",
       "      <td>7632</td>\n",
       "      <td>0.273973</td>\n",
       "      <td>4</td>\n",
       "      <td>0.130087</td>\n",
       "      <td>6</td>\n",
       "      <td>0.266667</td>\n",
       "      <td>2</td>\n",
       "      <td>3</td>\n",
       "      <td>0</td>\n",
       "      <td>4</td>\n",
       "      <td>1</td>\n",
       "      <td>0.00000</td>\n",
       "      <td>0.0</td>\n",
       "      <td>0.397959</td>\n",
       "      <td>39</td>\n",
       "    </tr>\n",
       "    <tr>\n",
       "      <th>27877</th>\n",
       "      <td>27877</td>\n",
       "      <td>0.287671</td>\n",
       "      <td>1</td>\n",
       "      <td>0.169079</td>\n",
       "      <td>15</td>\n",
       "      <td>0.600000</td>\n",
       "      <td>2</td>\n",
       "      <td>1</td>\n",
       "      <td>0</td>\n",
       "      <td>4</td>\n",
       "      <td>1</td>\n",
       "      <td>0.00000</td>\n",
       "      <td>0.0</td>\n",
       "      <td>0.448980</td>\n",
       "      <td>39</td>\n",
       "    </tr>\n",
       "    <tr>\n",
       "      <th>17508</th>\n",
       "      <td>17508</td>\n",
       "      <td>0.260274</td>\n",
       "      <td>4</td>\n",
       "      <td>0.122471</td>\n",
       "      <td>11</td>\n",
       "      <td>0.533333</td>\n",
       "      <td>0</td>\n",
       "      <td>7</td>\n",
       "      <td>1</td>\n",
       "      <td>4</td>\n",
       "      <td>1</td>\n",
       "      <td>0.00000</td>\n",
       "      <td>0.0</td>\n",
       "      <td>0.561224</td>\n",
       "      <td>39</td>\n",
       "    </tr>\n",
       "    <tr>\n",
       "      <th>...</th>\n",
       "      <td>...</td>\n",
       "      <td>...</td>\n",
       "      <td>...</td>\n",
       "      <td>...</td>\n",
       "      <td>...</td>\n",
       "      <td>...</td>\n",
       "      <td>...</td>\n",
       "      <td>...</td>\n",
       "      <td>...</td>\n",
       "      <td>...</td>\n",
       "      <td>...</td>\n",
       "      <td>...</td>\n",
       "      <td>...</td>\n",
       "      <td>...</td>\n",
       "      <td>...</td>\n",
       "    </tr>\n",
       "    <tr>\n",
       "      <th>2669</th>\n",
       "      <td>2669</td>\n",
       "      <td>0.465753</td>\n",
       "      <td>4</td>\n",
       "      <td>0.153115</td>\n",
       "      <td>11</td>\n",
       "      <td>0.533333</td>\n",
       "      <td>2</td>\n",
       "      <td>6</td>\n",
       "      <td>0</td>\n",
       "      <td>4</td>\n",
       "      <td>1</td>\n",
       "      <td>0.03103</td>\n",
       "      <td>0.0</td>\n",
       "      <td>0.397959</td>\n",
       "      <td>39</td>\n",
       "    </tr>\n",
       "    <tr>\n",
       "      <th>17536</th>\n",
       "      <td>17536</td>\n",
       "      <td>0.109589</td>\n",
       "      <td>0</td>\n",
       "      <td>0.154056</td>\n",
       "      <td>9</td>\n",
       "      <td>0.800000</td>\n",
       "      <td>4</td>\n",
       "      <td>0</td>\n",
       "      <td>1</td>\n",
       "      <td>4</td>\n",
       "      <td>1</td>\n",
       "      <td>0.00000</td>\n",
       "      <td>0.0</td>\n",
       "      <td>0.122449</td>\n",
       "      <td>39</td>\n",
       "    </tr>\n",
       "    <tr>\n",
       "      <th>6201</th>\n",
       "      <td>6201</td>\n",
       "      <td>0.273973</td>\n",
       "      <td>4</td>\n",
       "      <td>0.115062</td>\n",
       "      <td>8</td>\n",
       "      <td>0.666667</td>\n",
       "      <td>2</td>\n",
       "      <td>3</td>\n",
       "      <td>0</td>\n",
       "      <td>4</td>\n",
       "      <td>1</td>\n",
       "      <td>0.00000</td>\n",
       "      <td>0.0</td>\n",
       "      <td>0.397959</td>\n",
       "      <td>39</td>\n",
       "    </tr>\n",
       "    <tr>\n",
       "      <th>27989</th>\n",
       "      <td>27989</td>\n",
       "      <td>0.219178</td>\n",
       "      <td>4</td>\n",
       "      <td>0.116632</td>\n",
       "      <td>11</td>\n",
       "      <td>0.533333</td>\n",
       "      <td>4</td>\n",
       "      <td>14</td>\n",
       "      <td>1</td>\n",
       "      <td>4</td>\n",
       "      <td>1</td>\n",
       "      <td>0.00000</td>\n",
       "      <td>0.0</td>\n",
       "      <td>0.397959</td>\n",
       "      <td>39</td>\n",
       "    </tr>\n",
       "    <tr>\n",
       "      <th>25716</th>\n",
       "      <td>25716</td>\n",
       "      <td>0.232877</td>\n",
       "      <td>6</td>\n",
       "      <td>0.164368</td>\n",
       "      <td>11</td>\n",
       "      <td>0.533333</td>\n",
       "      <td>2</td>\n",
       "      <td>5</td>\n",
       "      <td>0</td>\n",
       "      <td>4</td>\n",
       "      <td>1</td>\n",
       "      <td>0.04508</td>\n",
       "      <td>0.0</td>\n",
       "      <td>0.908163</td>\n",
       "      <td>39</td>\n",
       "    </tr>\n",
       "  </tbody>\n",
       "</table>\n",
       "<p>26048 rows × 15 columns</p>\n",
       "</div>"
      ],
      "text/plain": [
       "          id       age  workclass    fnlwgt  education  education.num  \\\n",
       "17270  17270  0.164384          2  0.141516          9       0.800000   \n",
       "26959  26959  0.369863          4  0.058357          9       0.800000   \n",
       "7632    7632  0.273973          4  0.130087          6       0.266667   \n",
       "27877  27877  0.287671          1  0.169079         15       0.600000   \n",
       "17508  17508  0.260274          4  0.122471         11       0.533333   \n",
       "...      ...       ...        ...       ...        ...            ...   \n",
       "2669    2669  0.465753          4  0.153115         11       0.533333   \n",
       "17536  17536  0.109589          0  0.154056          9       0.800000   \n",
       "6201    6201  0.273973          4  0.115062          8       0.666667   \n",
       "27989  27989  0.219178          4  0.116632         11       0.533333   \n",
       "25716  25716  0.232877          6  0.164368         11       0.533333   \n",
       "\n",
       "       marital.status  occupation  relationship  race  sex  capital.gain  \\\n",
       "17270               2           4             0     2    1       0.00000   \n",
       "26959               2          14             0     4    1       0.00000   \n",
       "7632                2           3             0     4    1       0.00000   \n",
       "27877               2           1             0     4    1       0.00000   \n",
       "17508               0           7             1     4    1       0.00000   \n",
       "...               ...         ...           ...   ...  ...           ...   \n",
       "2669                2           6             0     4    1       0.03103   \n",
       "17536               4           0             1     4    1       0.00000   \n",
       "6201                2           3             0     4    1       0.00000   \n",
       "27989               4          14             1     4    1       0.00000   \n",
       "25716               2           5             0     4    1       0.04508   \n",
       "\n",
       "       capital.loss  hours.per.week  native.country  \n",
       "17270           0.0        0.397959              39  \n",
       "26959           0.0        0.551020              39  \n",
       "7632            0.0        0.397959              39  \n",
       "27877           0.0        0.448980              39  \n",
       "17508           0.0        0.561224              39  \n",
       "...             ...             ...             ...  \n",
       "2669            0.0        0.397959              39  \n",
       "17536           0.0        0.122449              39  \n",
       "6201            0.0        0.397959              39  \n",
       "27989           0.0        0.397959              39  \n",
       "25716           0.0        0.908163              39  \n",
       "\n",
       "[26048 rows x 15 columns]"
      ]
     },
     "execution_count": 112,
     "metadata": {},
     "output_type": "execute_result"
    }
   ],
   "source": [
    "\n",
    "from sklearn.preprocessing import MinMaxScaler\n",
    "\n",
    "scaler = MinMaxScaler()\n",
    "X_train[numeric_features] = scaler.fit_transform(X_train[numeric_features])\n",
    "X_test[numeric_features] = scaler.transform(X_test[numeric_features])\n",
    "X_train"
   ]
  },
  {
   "cell_type": "code",
   "execution_count": 113,
   "id": "2c283900",
   "metadata": {
    "execution": {
     "iopub.execute_input": "2021-12-01T23:49:34.370914Z",
     "iopub.status.busy": "2021-12-01T23:49:34.370108Z",
     "iopub.status.idle": "2021-12-01T23:49:34.375200Z",
     "shell.execute_reply": "2021-12-01T23:49:34.375860Z",
     "shell.execute_reply.started": "2021-12-01T23:48:26.583236Z"
    },
    "papermill": {
     "duration": 0.05049,
     "end_time": "2021-12-01T23:49:34.376037",
     "exception": false,
     "start_time": "2021-12-01T23:49:34.325547",
     "status": "completed"
    },
    "tags": []
   },
   "outputs": [
    {
     "data": {
      "text/plain": [
       "17270    1\n",
       "26959    0\n",
       "7632     0\n",
       "27877    1\n",
       "17508    0\n",
       "Name: income, dtype: int32"
      ]
     },
     "execution_count": 113,
     "metadata": {},
     "output_type": "execute_result"
    }
   ],
   "source": [
    "\n",
    "y = (y_train['income'] != ' <=50K').astype(int)\n",
    "y[:5]"
   ]
  },
  {
   "cell_type": "code",
   "execution_count": 114,
   "id": "9403e615",
   "metadata": {
    "execution": {
     "iopub.execute_input": "2021-12-01T23:49:34.520726Z",
     "iopub.status.busy": "2021-12-01T23:49:34.520023Z",
     "iopub.status.idle": "2021-12-01T23:49:34.531984Z",
     "shell.execute_reply": "2021-12-01T23:49:34.532652Z",
     "shell.execute_reply.started": "2021-12-01T23:48:26.596578Z"
    },
    "papermill": {
     "duration": 0.05038,
     "end_time": "2021-12-01T23:49:34.532835",
     "exception": false,
     "start_time": "2021-12-01T23:49:34.482455",
     "status": "completed"
    },
    "tags": []
   },
   "outputs": [
    {
     "data": {
      "text/plain": [
       "((22140, 15), (3908, 15), (22140,), (3908,))"
      ]
     },
     "execution_count": 114,
     "metadata": {},
     "output_type": "execute_result"
    }
   ],
   "source": [
    "\n",
    "from sklearn.model_selection import train_test_split\n",
    "X_tr, X_val, y_tr, y_val = train_test_split(X_train, y, test_size=0.15, random_state=2021)\n",
    "X_tr.shape, X_val.shape, y_tr.shape, y_val.shape"
   ]
  },
  {
   "cell_type": "code",
   "execution_count": 115,
   "id": "72ebec15",
   "metadata": {
    "execution": {
     "iopub.execute_input": "2021-12-01T23:49:34.608093Z",
     "iopub.status.busy": "2021-12-01T23:49:34.607425Z",
     "iopub.status.idle": "2021-12-01T23:49:34.623615Z",
     "shell.execute_reply": "2021-12-01T23:49:34.624226Z",
     "shell.execute_reply.started": "2021-12-01T23:48:26.609965Z"
    },
    "papermill": {
     "duration": 0.055928,
     "end_time": "2021-12-01T23:49:34.624423",
     "exception": false,
     "start_time": "2021-12-01T23:49:34.568495",
     "status": "completed"
    },
    "tags": []
   },
   "outputs": [
    {
     "data": {
      "text/html": [
       "<div>\n",
       "<style scoped>\n",
       "    .dataframe tbody tr th:only-of-type {\n",
       "        vertical-align: middle;\n",
       "    }\n",
       "\n",
       "    .dataframe tbody tr th {\n",
       "        vertical-align: top;\n",
       "    }\n",
       "\n",
       "    .dataframe thead th {\n",
       "        text-align: right;\n",
       "    }\n",
       "</style>\n",
       "<table border=\"1\" class=\"dataframe\">\n",
       "  <thead>\n",
       "    <tr style=\"text-align: right;\">\n",
       "      <th></th>\n",
       "      <th>id</th>\n",
       "      <th>age</th>\n",
       "      <th>workclass</th>\n",
       "      <th>fnlwgt</th>\n",
       "      <th>education</th>\n",
       "      <th>education.num</th>\n",
       "      <th>marital.status</th>\n",
       "      <th>occupation</th>\n",
       "      <th>relationship</th>\n",
       "      <th>race</th>\n",
       "      <th>sex</th>\n",
       "      <th>capital.gain</th>\n",
       "      <th>capital.loss</th>\n",
       "      <th>hours.per.week</th>\n",
       "      <th>native.country</th>\n",
       "    </tr>\n",
       "  </thead>\n",
       "  <tbody>\n",
       "    <tr>\n",
       "      <th>1437</th>\n",
       "      <td>1437</td>\n",
       "      <td>0.328767</td>\n",
       "      <td>6</td>\n",
       "      <td>0.087639</td>\n",
       "      <td>12</td>\n",
       "      <td>0.866667</td>\n",
       "      <td>0</td>\n",
       "      <td>10</td>\n",
       "      <td>4</td>\n",
       "      <td>4</td>\n",
       "      <td>0</td>\n",
       "      <td>0.0</td>\n",
       "      <td>0.0</td>\n",
       "      <td>0.346939</td>\n",
       "      <td>39</td>\n",
       "    </tr>\n",
       "    <tr>\n",
       "      <th>7151</th>\n",
       "      <td>7151</td>\n",
       "      <td>0.095890</td>\n",
       "      <td>4</td>\n",
       "      <td>0.014080</td>\n",
       "      <td>15</td>\n",
       "      <td>0.600000</td>\n",
       "      <td>4</td>\n",
       "      <td>3</td>\n",
       "      <td>3</td>\n",
       "      <td>4</td>\n",
       "      <td>1</td>\n",
       "      <td>0.0</td>\n",
       "      <td>0.0</td>\n",
       "      <td>0.397959</td>\n",
       "      <td>39</td>\n",
       "    </tr>\n",
       "    <tr>\n",
       "      <th>30295</th>\n",
       "      <td>30295</td>\n",
       "      <td>0.068493</td>\n",
       "      <td>4</td>\n",
       "      <td>0.024927</td>\n",
       "      <td>15</td>\n",
       "      <td>0.600000</td>\n",
       "      <td>4</td>\n",
       "      <td>14</td>\n",
       "      <td>1</td>\n",
       "      <td>4</td>\n",
       "      <td>1</td>\n",
       "      <td>0.0</td>\n",
       "      <td>0.0</td>\n",
       "      <td>0.397959</td>\n",
       "      <td>39</td>\n",
       "    </tr>\n",
       "    <tr>\n",
       "      <th>15372</th>\n",
       "      <td>15372</td>\n",
       "      <td>0.000000</td>\n",
       "      <td>4</td>\n",
       "      <td>0.056719</td>\n",
       "      <td>1</td>\n",
       "      <td>0.400000</td>\n",
       "      <td>4</td>\n",
       "      <td>12</td>\n",
       "      <td>3</td>\n",
       "      <td>4</td>\n",
       "      <td>0</td>\n",
       "      <td>0.0</td>\n",
       "      <td>0.0</td>\n",
       "      <td>0.173469</td>\n",
       "      <td>39</td>\n",
       "    </tr>\n",
       "    <tr>\n",
       "      <th>13800</th>\n",
       "      <td>13800</td>\n",
       "      <td>0.301370</td>\n",
       "      <td>6</td>\n",
       "      <td>0.061684</td>\n",
       "      <td>9</td>\n",
       "      <td>0.800000</td>\n",
       "      <td>2</td>\n",
       "      <td>10</td>\n",
       "      <td>0</td>\n",
       "      <td>4</td>\n",
       "      <td>1</td>\n",
       "      <td>0.0</td>\n",
       "      <td>0.0</td>\n",
       "      <td>0.500000</td>\n",
       "      <td>39</td>\n",
       "    </tr>\n",
       "  </tbody>\n",
       "</table>\n",
       "</div>"
      ],
      "text/plain": [
       "          id       age  workclass    fnlwgt  education  education.num  \\\n",
       "1437    1437  0.328767          6  0.087639         12       0.866667   \n",
       "7151    7151  0.095890          4  0.014080         15       0.600000   \n",
       "30295  30295  0.068493          4  0.024927         15       0.600000   \n",
       "15372  15372  0.000000          4  0.056719          1       0.400000   \n",
       "13800  13800  0.301370          6  0.061684          9       0.800000   \n",
       "\n",
       "       marital.status  occupation  relationship  race  sex  capital.gain  \\\n",
       "1437                0          10             4     4    0           0.0   \n",
       "7151                4           3             3     4    1           0.0   \n",
       "30295               4          14             1     4    1           0.0   \n",
       "15372               4          12             3     4    0           0.0   \n",
       "13800               2          10             0     4    1           0.0   \n",
       "\n",
       "       capital.loss  hours.per.week  native.country  \n",
       "1437            0.0        0.346939              39  \n",
       "7151            0.0        0.397959              39  \n",
       "30295           0.0        0.397959              39  \n",
       "15372           0.0        0.173469              39  \n",
       "13800           0.0        0.500000              39  "
      ]
     },
     "execution_count": 115,
     "metadata": {},
     "output_type": "execute_result"
    }
   ],
   "source": [
    "X_tr.head()"
   ]
  },
  {
   "cell_type": "code",
   "execution_count": 116,
   "id": "c3d205f7",
   "metadata": {
    "execution": {
     "iopub.execute_input": "2021-12-01T23:49:34.761396Z",
     "iopub.status.busy": "2021-12-01T23:49:34.760638Z",
     "iopub.status.idle": "2021-12-01T23:49:34.767280Z",
     "shell.execute_reply": "2021-12-01T23:49:34.767853Z",
     "shell.execute_reply.started": "2021-12-01T23:48:26.623821Z"
    },
    "papermill": {
     "duration": 0.046587,
     "end_time": "2021-12-01T23:49:34.768046",
     "exception": false,
     "start_time": "2021-12-01T23:49:34.721459",
     "status": "completed"
    },
    "tags": []
   },
   "outputs": [],
   "source": [
    "\n",
    "X_tr = X_tr.drop('id', axis=1)\n",
    "X_val = X_val.drop('id', axis=1)"
   ]
  },
  {
   "cell_type": "code",
   "execution_count": 117,
   "id": "07bfdb66",
   "metadata": {
    "execution": {
     "iopub.execute_input": "2021-12-01T23:49:34.844639Z",
     "iopub.status.busy": "2021-12-01T23:49:34.843853Z",
     "iopub.status.idle": "2021-12-01T23:49:34.857084Z",
     "shell.execute_reply": "2021-12-01T23:49:34.857770Z",
     "shell.execute_reply.started": "2021-12-01T23:48:26.632400Z"
    },
    "papermill": {
     "duration": 0.05339,
     "end_time": "2021-12-01T23:49:34.857950",
     "exception": false,
     "start_time": "2021-12-01T23:49:34.804560",
     "status": "completed"
    },
    "tags": []
   },
   "outputs": [
    {
     "data": {
      "text/html": [
       "<div>\n",
       "<style scoped>\n",
       "    .dataframe tbody tr th:only-of-type {\n",
       "        vertical-align: middle;\n",
       "    }\n",
       "\n",
       "    .dataframe tbody tr th {\n",
       "        vertical-align: top;\n",
       "    }\n",
       "\n",
       "    .dataframe thead th {\n",
       "        text-align: right;\n",
       "    }\n",
       "</style>\n",
       "<table border=\"1\" class=\"dataframe\">\n",
       "  <thead>\n",
       "    <tr style=\"text-align: right;\">\n",
       "      <th></th>\n",
       "      <th>age</th>\n",
       "      <th>workclass</th>\n",
       "      <th>fnlwgt</th>\n",
       "      <th>education</th>\n",
       "      <th>education.num</th>\n",
       "      <th>marital.status</th>\n",
       "      <th>occupation</th>\n",
       "      <th>relationship</th>\n",
       "      <th>race</th>\n",
       "      <th>sex</th>\n",
       "      <th>capital.gain</th>\n",
       "      <th>capital.loss</th>\n",
       "      <th>hours.per.week</th>\n",
       "      <th>native.country</th>\n",
       "    </tr>\n",
       "  </thead>\n",
       "  <tbody>\n",
       "    <tr>\n",
       "      <th>1437</th>\n",
       "      <td>0.328767</td>\n",
       "      <td>6</td>\n",
       "      <td>0.087639</td>\n",
       "      <td>12</td>\n",
       "      <td>0.866667</td>\n",
       "      <td>0</td>\n",
       "      <td>10</td>\n",
       "      <td>4</td>\n",
       "      <td>4</td>\n",
       "      <td>0</td>\n",
       "      <td>0.0</td>\n",
       "      <td>0.0</td>\n",
       "      <td>0.346939</td>\n",
       "      <td>39</td>\n",
       "    </tr>\n",
       "  </tbody>\n",
       "</table>\n",
       "</div>"
      ],
      "text/plain": [
       "           age  workclass    fnlwgt  education  education.num  marital.status  \\\n",
       "1437  0.328767          6  0.087639         12       0.866667               0   \n",
       "\n",
       "      occupation  relationship  race  sex  capital.gain  capital.loss  \\\n",
       "1437          10             4     4    0           0.0           0.0   \n",
       "\n",
       "      hours.per.week  native.country  \n",
       "1437        0.346939              39  "
      ]
     },
     "execution_count": 117,
     "metadata": {},
     "output_type": "execute_result"
    }
   ],
   "source": [
    "\n",
    "X_tr.head(1)"
   ]
  },
  {
   "cell_type": "code",
   "execution_count": 118,
   "id": "f47d5c49",
   "metadata": {
    "execution": {
     "iopub.execute_input": "2021-12-01T23:49:35.011184Z",
     "iopub.status.busy": "2021-12-01T23:49:35.010511Z",
     "iopub.status.idle": "2021-12-01T23:49:35.439592Z",
     "shell.execute_reply": "2021-12-01T23:49:35.440052Z",
     "shell.execute_reply.started": "2021-12-01T23:48:26.652542Z"
    },
    "papermill": {
     "duration": 0.469305,
     "end_time": "2021-12-01T23:49:35.440225",
     "exception": false,
     "start_time": "2021-12-01T23:49:34.970920",
     "status": "completed"
    },
    "tags": []
   },
   "outputs": [
    {
     "name": "stdout",
     "output_type": "stream",
     "text": [
      "accuracy score: 0.8134595701125895\n"
     ]
    }
   ],
   "source": [
    "\n",
    "from sklearn.tree import DecisionTreeClassifier\n",
    "from sklearn.metrics import accuracy_score\n",
    "\n",
    "model = DecisionTreeClassifier(random_state = 2022)\n",
    "model.fit(X_tr, y_tr)\n",
    "pred = model.predict(X_val)\n",
    "print('accuracy score:', (accuracy_score(y_val, pred)))"
   ]
  },
  {
   "cell_type": "code",
   "execution_count": 119,
   "id": "97f07645",
   "metadata": {
    "execution": {
     "iopub.execute_input": "2021-12-01T23:49:35.521146Z",
     "iopub.status.busy": "2021-12-01T23:49:35.520456Z",
     "iopub.status.idle": "2021-12-01T23:49:38.064608Z",
     "shell.execute_reply": "2021-12-01T23:49:38.064016Z",
     "shell.execute_reply.started": "2021-12-01T23:48:26.792447Z"
    },
    "papermill": {
     "duration": 2.587149,
     "end_time": "2021-12-01T23:49:38.064763",
     "exception": false,
     "start_time": "2021-12-01T23:49:35.477614",
     "status": "completed"
    },
    "tags": []
   },
   "outputs": [
    {
     "name": "stdout",
     "output_type": "stream",
     "text": [
      "accuracy score: 0.8582395087001023\n"
     ]
    }
   ],
   "source": [
    "from sklearn.ensemble import RandomForestClassifier\n",
    "\n",
    "model = RandomForestClassifier(random_state = 2022)\n",
    "model.fit(X_tr, y_tr)\n",
    "pred = model.predict(X_val)\n",
    "print('accuracy score:', (accuracy_score(y_val, pred)))"
   ]
  },
  {
   "cell_type": "code",
   "execution_count": 120,
   "id": "fb63bc67",
   "metadata": {
    "execution": {
     "iopub.execute_input": "2021-12-01T23:49:38.143618Z",
     "iopub.status.busy": "2021-12-01T23:49:38.142936Z",
     "iopub.status.idle": "2021-12-01T23:49:38.295400Z",
     "shell.execute_reply": "2021-12-01T23:49:38.294813Z",
     "shell.execute_reply.started": "2021-12-01T23:48:29.844732Z"
    },
    "papermill": {
     "duration": 0.19287,
     "end_time": "2021-12-01T23:49:38.295558",
     "exception": false,
     "start_time": "2021-12-01T23:49:38.102688",
     "status": "completed"
    },
    "tags": []
   },
   "outputs": [],
   "source": [
    "\n",
    "X_test_id = X_test.pop('id')\n",
    "pred = model.predict(X_test)"
   ]
  },
  {
   "cell_type": "code",
   "execution_count": 121,
   "id": "159f04c6",
   "metadata": {
    "execution": {
     "iopub.execute_input": "2021-12-01T23:49:38.374752Z",
     "iopub.status.busy": "2021-12-01T23:49:38.374080Z",
     "iopub.status.idle": "2021-12-01T23:49:38.399637Z",
     "shell.execute_reply": "2021-12-01T23:49:38.398990Z",
     "shell.execute_reply.started": "2021-12-01T23:48:29.994226Z"
    },
    "papermill": {
     "duration": 0.065585,
     "end_time": "2021-12-01T23:49:38.399776",
     "exception": false,
     "start_time": "2021-12-01T23:49:38.334191",
     "status": "completed"
    },
    "tags": []
   },
   "outputs": [
    {
     "data": {
      "text/html": [
       "<div>\n",
       "<style scoped>\n",
       "    .dataframe tbody tr th:only-of-type {\n",
       "        vertical-align: middle;\n",
       "    }\n",
       "\n",
       "    .dataframe tbody tr th {\n",
       "        vertical-align: top;\n",
       "    }\n",
       "\n",
       "    .dataframe thead th {\n",
       "        text-align: right;\n",
       "    }\n",
       "</style>\n",
       "<table border=\"1\" class=\"dataframe\">\n",
       "  <thead>\n",
       "    <tr style=\"text-align: right;\">\n",
       "      <th></th>\n",
       "      <th>id</th>\n",
       "      <th>income</th>\n",
       "    </tr>\n",
       "  </thead>\n",
       "  <tbody>\n",
       "    <tr>\n",
       "      <th>17960</th>\n",
       "      <td>17960</td>\n",
       "      <td>0</td>\n",
       "    </tr>\n",
       "    <tr>\n",
       "      <th>14169</th>\n",
       "      <td>14169</td>\n",
       "      <td>0</td>\n",
       "    </tr>\n",
       "    <tr>\n",
       "      <th>1776</th>\n",
       "      <td>1776</td>\n",
       "      <td>0</td>\n",
       "    </tr>\n",
       "    <tr>\n",
       "      <th>29410</th>\n",
       "      <td>29410</td>\n",
       "      <td>1</td>\n",
       "    </tr>\n",
       "    <tr>\n",
       "      <th>8602</th>\n",
       "      <td>8602</td>\n",
       "      <td>0</td>\n",
       "    </tr>\n",
       "  </tbody>\n",
       "</table>\n",
       "</div>"
      ],
      "text/plain": [
       "          id  income\n",
       "17960  17960       0\n",
       "14169  14169       0\n",
       "1776    1776       0\n",
       "29410  29410       1\n",
       "8602    8602       0"
      ]
     },
     "execution_count": 121,
     "metadata": {},
     "output_type": "execute_result"
    }
   ],
   "source": [
    "\n",
    "output = pd.DataFrame({'id': X_test_id, 'income':pred})\n",
    "output.to_csv(\"000000.csv\", index=False)\n",
    "output.head()"
   ]
  },
  {
   "cell_type": "markdown",
   "id": "a4b74994",
   "metadata": {},
   "source": [
    "# Accuracy Score"
   ]
  },
  {
   "cell_type": "code",
   "execution_count": 122,
   "id": "c8f4a44e",
   "metadata": {
    "execution": {
     "iopub.execute_input": "2021-12-01T23:49:38.559103Z",
     "iopub.status.busy": "2021-12-01T23:49:38.558324Z",
     "iopub.status.idle": "2021-12-01T23:49:38.562992Z",
     "shell.execute_reply": "2021-12-01T23:49:38.562309Z",
     "shell.execute_reply.started": "2021-12-01T23:48:30.017330Z"
    },
    "papermill": {
     "duration": 0.050015,
     "end_time": "2021-12-01T23:49:38.563140",
     "exception": false,
     "start_time": "2021-12-01T23:49:38.513125",
     "status": "completed"
    },
    "tags": []
   },
   "outputs": [
    {
     "name": "stdout",
     "output_type": "stream",
     "text": [
      "accuracy score: 0.863482800982801\n"
     ]
    }
   ],
   "source": [
    "y_test = (y_test['income'] != ' <=50K').astype(int)\n",
    "from sklearn.metrics import accuracy_score\n",
    "print('accuracy score:', (accuracy_score(y_test, pred)))"
   ]
  },
  {
   "cell_type": "code",
   "execution_count": 123,
   "id": "6bf1aa9f",
   "metadata": {},
   "outputs": [
    {
     "name": "stdout",
     "output_type": "stream",
     "text": [
      "0.9043943285342002\n"
     ]
    },
    {
     "data": {
      "text/plain": [
       "<matplotlib.legend.Legend at 0x490280c3a0>"
      ]
     },
     "execution_count": 123,
     "metadata": {},
     "output_type": "execute_result"
    },
    {
     "data": {
      "image/png": "[encoded data removed]",
      "text/plain": [
       "<Figure size 720x360 with 1 Axes>"
      ]
     },
     "metadata": {
      "needs_background": "light"
     },
     "output_type": "display_data"
    }
   ],
   "source": [
    "from sklearn import metrics\n",
    "import matplotlib.pyplot as plt\n",
    "fig, ax = plt.subplots(nrows = 1, ncols = 1, figsize = (10,5))\n",
    "probs = model.predict_proba(X_val)\n",
    "preds = probs[:,1]\n",
    "fprlr, tprlr, thresholdlr = metrics.roc_curve(y_val, preds)\n",
    "#print(\"False Positive Rate:\",fprlr)\n",
    "#print(\"True Positive Rate:\",tprlr)\n",
    "#print(\"Threshold:\",thresholdlr)\n",
    "roc_auclr = metrics.auc(fprlr, tprlr)\n",
    "print(roc_auclr)\n",
    "\n",
    "ax.plot(fprlr, tprlr, 'b', label = 'AUC = %0.2f' % roc_auclr)\n",
    "ax.plot([0, 1], [0, 1],'r--')\n",
    "ax.set_title('Receiver Operating Characteristic Logistic Regression ',fontsize=10)\n",
    "ax.set_ylabel('True Positive Rate',fontsize=20)\n",
    "ax.set_xlabel('False Positive Rate',fontsize=15)\n",
    "ax.legend(loc = 'lower right', prop={'size': 16})"
   ]
  }
 ],
 "metadata": {
  "kernelspec": {
   "display_name": "Python 3",
   "language": "python",
   "name": "python3"
  },
  "language_info": {
   "codemirror_mode": {
    "name": "ipython",
    "version": 3
   },
   "file_extension": ".py",
   "mimetype": "text/x-python",
   "name": "python",
   "nbconvert_exporter": "python",
   "pygments_lexer": "ipython3",
   "version": "3.8.8"
  },
  "papermill": {
   "default_parameters": {},
   "duration": 18.152093,
   "end_time": "2021-12-01T23:49:39.312448",
   "environment_variables": {},
   "exception": null,
   "input_path": "__notebook__.ipynb",
   "output_path": "__notebook__.ipynb",
   "parameters": {},
   "start_time": "2021-12-01T23:49:21.160355",
   "version": "2.3.3"
  }
 },
 "nbformat": 4,
 "nbformat_minor": 5
}
