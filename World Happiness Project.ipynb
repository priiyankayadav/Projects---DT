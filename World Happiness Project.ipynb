{
 "cells": [
  {
   "cell_type": "code",
   "execution_count": 2,
   "id": "1ab585c8",
   "metadata": {},
   "outputs": [],
   "source": [
    "import pandas as pd"
   ]
  },
  {
   "cell_type": "code",
   "execution_count": 3,
   "id": "59c99553",
   "metadata": {},
   "outputs": [],
   "source": [
    "df=pd.read_csv('https://raw.githubusercontent.com/dsrscientist/DSData/master/happiness_score_dataset.csv')"
   ]
  },
  {
   "cell_type": "code",
   "execution_count": 19,
   "id": "bf38047d",
   "metadata": {},
   "outputs": [
    {
     "data": {
      "text/html": [
       "<div>\n",
       "<style scoped>\n",
       "    .dataframe tbody tr th:only-of-type {\n",
       "        vertical-align: middle;\n",
       "    }\n",
       "\n",
       "    .dataframe tbody tr th {\n",
       "        vertical-align: top;\n",
       "    }\n",
       "\n",
       "    .dataframe thead th {\n",
       "        text-align: right;\n",
       "    }\n",
       "</style>\n",
       "<table border=\"1\" class=\"dataframe\">\n",
       "  <thead>\n",
       "    <tr style=\"text-align: right;\">\n",
       "      <th></th>\n",
       "      <th>Country</th>\n",
       "      <th>Region</th>\n",
       "      <th>Happiness Rank</th>\n",
       "      <th>Happiness Score</th>\n",
       "      <th>Standard Error</th>\n",
       "      <th>Economy (GDP per Capita)</th>\n",
       "      <th>Family</th>\n",
       "      <th>Health (Life Expectancy)</th>\n",
       "      <th>Freedom</th>\n",
       "      <th>Trust (Government Corruption)</th>\n",
       "      <th>Generosity</th>\n",
       "      <th>Dystopia Residual</th>\n",
       "    </tr>\n",
       "  </thead>\n",
       "  <tbody>\n",
       "    <tr>\n",
       "      <th>0</th>\n",
       "      <td>Switzerland</td>\n",
       "      <td>Western Europe</td>\n",
       "      <td>1</td>\n",
       "      <td>7.587</td>\n",
       "      <td>0.03411</td>\n",
       "      <td>1.39651</td>\n",
       "      <td>1.34951</td>\n",
       "      <td>0.94143</td>\n",
       "      <td>0.66557</td>\n",
       "      <td>0.41978</td>\n",
       "      <td>0.29678</td>\n",
       "      <td>2.51738</td>\n",
       "    </tr>\n",
       "    <tr>\n",
       "      <th>1</th>\n",
       "      <td>Iceland</td>\n",
       "      <td>Western Europe</td>\n",
       "      <td>2</td>\n",
       "      <td>7.561</td>\n",
       "      <td>0.04884</td>\n",
       "      <td>1.30232</td>\n",
       "      <td>1.40223</td>\n",
       "      <td>0.94784</td>\n",
       "      <td>0.62877</td>\n",
       "      <td>0.14145</td>\n",
       "      <td>0.43630</td>\n",
       "      <td>2.70201</td>\n",
       "    </tr>\n",
       "    <tr>\n",
       "      <th>2</th>\n",
       "      <td>Denmark</td>\n",
       "      <td>Western Europe</td>\n",
       "      <td>3</td>\n",
       "      <td>7.527</td>\n",
       "      <td>0.03328</td>\n",
       "      <td>1.32548</td>\n",
       "      <td>1.36058</td>\n",
       "      <td>0.87464</td>\n",
       "      <td>0.64938</td>\n",
       "      <td>0.48357</td>\n",
       "      <td>0.34139</td>\n",
       "      <td>2.49204</td>\n",
       "    </tr>\n",
       "    <tr>\n",
       "      <th>3</th>\n",
       "      <td>Norway</td>\n",
       "      <td>Western Europe</td>\n",
       "      <td>4</td>\n",
       "      <td>7.522</td>\n",
       "      <td>0.03880</td>\n",
       "      <td>1.45900</td>\n",
       "      <td>1.33095</td>\n",
       "      <td>0.88521</td>\n",
       "      <td>0.66973</td>\n",
       "      <td>0.36503</td>\n",
       "      <td>0.34699</td>\n",
       "      <td>2.46531</td>\n",
       "    </tr>\n",
       "    <tr>\n",
       "      <th>4</th>\n",
       "      <td>Canada</td>\n",
       "      <td>North America</td>\n",
       "      <td>5</td>\n",
       "      <td>7.427</td>\n",
       "      <td>0.03553</td>\n",
       "      <td>1.32629</td>\n",
       "      <td>1.32261</td>\n",
       "      <td>0.90563</td>\n",
       "      <td>0.63297</td>\n",
       "      <td>0.32957</td>\n",
       "      <td>0.45811</td>\n",
       "      <td>2.45176</td>\n",
       "    </tr>\n",
       "    <tr>\n",
       "      <th>...</th>\n",
       "      <td>...</td>\n",
       "      <td>...</td>\n",
       "      <td>...</td>\n",
       "      <td>...</td>\n",
       "      <td>...</td>\n",
       "      <td>...</td>\n",
       "      <td>...</td>\n",
       "      <td>...</td>\n",
       "      <td>...</td>\n",
       "      <td>...</td>\n",
       "      <td>...</td>\n",
       "      <td>...</td>\n",
       "    </tr>\n",
       "    <tr>\n",
       "      <th>153</th>\n",
       "      <td>Rwanda</td>\n",
       "      <td>Sub-Saharan Africa</td>\n",
       "      <td>154</td>\n",
       "      <td>3.465</td>\n",
       "      <td>0.03464</td>\n",
       "      <td>0.22208</td>\n",
       "      <td>0.77370</td>\n",
       "      <td>0.42864</td>\n",
       "      <td>0.59201</td>\n",
       "      <td>0.55191</td>\n",
       "      <td>0.22628</td>\n",
       "      <td>0.67042</td>\n",
       "    </tr>\n",
       "    <tr>\n",
       "      <th>154</th>\n",
       "      <td>Benin</td>\n",
       "      <td>Sub-Saharan Africa</td>\n",
       "      <td>155</td>\n",
       "      <td>3.340</td>\n",
       "      <td>0.03656</td>\n",
       "      <td>0.28665</td>\n",
       "      <td>0.35386</td>\n",
       "      <td>0.31910</td>\n",
       "      <td>0.48450</td>\n",
       "      <td>0.08010</td>\n",
       "      <td>0.18260</td>\n",
       "      <td>1.63328</td>\n",
       "    </tr>\n",
       "    <tr>\n",
       "      <th>155</th>\n",
       "      <td>Syria</td>\n",
       "      <td>Middle East and Northern Africa</td>\n",
       "      <td>156</td>\n",
       "      <td>3.006</td>\n",
       "      <td>0.05015</td>\n",
       "      <td>0.66320</td>\n",
       "      <td>0.47489</td>\n",
       "      <td>0.72193</td>\n",
       "      <td>0.15684</td>\n",
       "      <td>0.18906</td>\n",
       "      <td>0.47179</td>\n",
       "      <td>0.32858</td>\n",
       "    </tr>\n",
       "    <tr>\n",
       "      <th>156</th>\n",
       "      <td>Burundi</td>\n",
       "      <td>Sub-Saharan Africa</td>\n",
       "      <td>157</td>\n",
       "      <td>2.905</td>\n",
       "      <td>0.08658</td>\n",
       "      <td>0.01530</td>\n",
       "      <td>0.41587</td>\n",
       "      <td>0.22396</td>\n",
       "      <td>0.11850</td>\n",
       "      <td>0.10062</td>\n",
       "      <td>0.19727</td>\n",
       "      <td>1.83302</td>\n",
       "    </tr>\n",
       "    <tr>\n",
       "      <th>157</th>\n",
       "      <td>Togo</td>\n",
       "      <td>Sub-Saharan Africa</td>\n",
       "      <td>158</td>\n",
       "      <td>2.839</td>\n",
       "      <td>0.06727</td>\n",
       "      <td>0.20868</td>\n",
       "      <td>0.13995</td>\n",
       "      <td>0.28443</td>\n",
       "      <td>0.36453</td>\n",
       "      <td>0.10731</td>\n",
       "      <td>0.16681</td>\n",
       "      <td>1.56726</td>\n",
       "    </tr>\n",
       "  </tbody>\n",
       "</table>\n",
       "<p>158 rows × 12 columns</p>\n",
       "</div>"
      ],
      "text/plain": [
       "         Country                           Region  Happiness Rank  \\\n",
       "0    Switzerland                   Western Europe               1   \n",
       "1        Iceland                   Western Europe               2   \n",
       "2        Denmark                   Western Europe               3   \n",
       "3         Norway                   Western Europe               4   \n",
       "4         Canada                    North America               5   \n",
       "..           ...                              ...             ...   \n",
       "153       Rwanda               Sub-Saharan Africa             154   \n",
       "154        Benin               Sub-Saharan Africa             155   \n",
       "155        Syria  Middle East and Northern Africa             156   \n",
       "156      Burundi               Sub-Saharan Africa             157   \n",
       "157         Togo               Sub-Saharan Africa             158   \n",
       "\n",
       "     Happiness Score  Standard Error  Economy (GDP per Capita)   Family  \\\n",
       "0              7.587         0.03411                   1.39651  1.34951   \n",
       "1              7.561         0.04884                   1.30232  1.40223   \n",
       "2              7.527         0.03328                   1.32548  1.36058   \n",
       "3              7.522         0.03880                   1.45900  1.33095   \n",
       "4              7.427         0.03553                   1.32629  1.32261   \n",
       "..               ...             ...                       ...      ...   \n",
       "153            3.465         0.03464                   0.22208  0.77370   \n",
       "154            3.340         0.03656                   0.28665  0.35386   \n",
       "155            3.006         0.05015                   0.66320  0.47489   \n",
       "156            2.905         0.08658                   0.01530  0.41587   \n",
       "157            2.839         0.06727                   0.20868  0.13995   \n",
       "\n",
       "     Health (Life Expectancy)  Freedom  Trust (Government Corruption)  \\\n",
       "0                     0.94143  0.66557                        0.41978   \n",
       "1                     0.94784  0.62877                        0.14145   \n",
       "2                     0.87464  0.64938                        0.48357   \n",
       "3                     0.88521  0.66973                        0.36503   \n",
       "4                     0.90563  0.63297                        0.32957   \n",
       "..                        ...      ...                            ...   \n",
       "153                   0.42864  0.59201                        0.55191   \n",
       "154                   0.31910  0.48450                        0.08010   \n",
       "155                   0.72193  0.15684                        0.18906   \n",
       "156                   0.22396  0.11850                        0.10062   \n",
       "157                   0.28443  0.36453                        0.10731   \n",
       "\n",
       "     Generosity  Dystopia Residual  \n",
       "0       0.29678            2.51738  \n",
       "1       0.43630            2.70201  \n",
       "2       0.34139            2.49204  \n",
       "3       0.34699            2.46531  \n",
       "4       0.45811            2.45176  \n",
       "..          ...                ...  \n",
       "153     0.22628            0.67042  \n",
       "154     0.18260            1.63328  \n",
       "155     0.47179            0.32858  \n",
       "156     0.19727            1.83302  \n",
       "157     0.16681            1.56726  \n",
       "\n",
       "[158 rows x 12 columns]"
      ]
     },
     "execution_count": 19,
     "metadata": {},
     "output_type": "execute_result"
    }
   ],
   "source": [
    "df"
   ]
  },
  {
   "cell_type": "code",
   "execution_count": 5,
   "id": "910c5beb",
   "metadata": {},
   "outputs": [
    {
     "data": {
      "text/plain": [
       "(158, 12)"
      ]
     },
     "execution_count": 5,
     "metadata": {},
     "output_type": "execute_result"
    }
   ],
   "source": [
    "df.shape"
   ]
  },
  {
   "cell_type": "code",
   "execution_count": 6,
   "id": "ce801f5f",
   "metadata": {},
   "outputs": [
    {
     "data": {
      "text/plain": [
       "Country                           object\n",
       "Region                            object\n",
       "Happiness Rank                     int64\n",
       "Happiness Score                  float64\n",
       "Standard Error                   float64\n",
       "Economy (GDP per Capita)         float64\n",
       "Family                           float64\n",
       "Health (Life Expectancy)         float64\n",
       "Freedom                          float64\n",
       "Trust (Government Corruption)    float64\n",
       "Generosity                       float64\n",
       "Dystopia Residual                float64\n",
       "dtype: object"
      ]
     },
     "execution_count": 6,
     "metadata": {},
     "output_type": "execute_result"
    }
   ],
   "source": [
    "df.dtypes"
   ]
  },
  {
   "cell_type": "code",
   "execution_count": 7,
   "id": "e99178b2",
   "metadata": {},
   "outputs": [
    {
     "data": {
      "text/plain": [
       "Country                          0\n",
       "Region                           0\n",
       "Happiness Rank                   0\n",
       "Happiness Score                  0\n",
       "Standard Error                   0\n",
       "Economy (GDP per Capita)         0\n",
       "Family                           0\n",
       "Health (Life Expectancy)         0\n",
       "Freedom                          0\n",
       "Trust (Government Corruption)    0\n",
       "Generosity                       0\n",
       "Dystopia Residual                0\n",
       "dtype: int64"
      ]
     },
     "execution_count": 7,
     "metadata": {},
     "output_type": "execute_result"
    }
   ],
   "source": [
    "df.isnull().sum()"
   ]
  },
  {
   "cell_type": "code",
   "execution_count": 8,
   "id": "b733a955",
   "metadata": {},
   "outputs": [],
   "source": [
    "import seaborn as sn"
   ]
  },
  {
   "cell_type": "code",
   "execution_count": 9,
   "id": "2524ee86",
   "metadata": {},
   "outputs": [
    {
     "name": "stderr",
     "output_type": "stream",
     "text": [
      "C:\\ProgramData\\Anaconda3\\lib\\site-packages\\seaborn\\_decorators.py:36: FutureWarning: Pass the following variable as a keyword arg: x. From version 0.12, the only valid positional argument will be `data`, and passing other arguments without an explicit keyword will result in an error or misinterpretation.\n",
      "  warnings.warn(\n"
     ]
    },
    {
     "data": {
      "text/plain": [
       "<AxesSubplot:xlabel='Dystopia Residual', ylabel='count'>"
      ]
     },
     "execution_count": 9,
     "metadata": {},
     "output_type": "execute_result"
    },
    {
     "data": {
      "image/png": "[encoded data removed]",
      "text/plain": [
       "<Figure size 432x288 with 1 Axes>"
      ]
     },
     "metadata": {
      "needs_background": "light"
     },
     "output_type": "display_data"
    }
   ],
   "source": [
    "sn.countplot(df['Dystopia Residual'])"
   ]
  },
  {
   "cell_type": "code",
   "execution_count": 10,
   "id": "9fb6b2d7",
   "metadata": {},
   "outputs": [
    {
     "name": "stderr",
     "output_type": "stream",
     "text": [
      "C:\\ProgramData\\Anaconda3\\lib\\site-packages\\seaborn\\_decorators.py:36: FutureWarning: Pass the following variable as a keyword arg: x. From version 0.12, the only valid positional argument will be `data`, and passing other arguments without an explicit keyword will result in an error or misinterpretation.\n",
      "  warnings.warn(\n"
     ]
    },
    {
     "data": {
      "text/plain": [
       "<AxesSubplot:xlabel='Dystopia Residual'>"
      ]
     },
     "execution_count": 10,
     "metadata": {},
     "output_type": "execute_result"
    },
    {
     "data": {
      "image/png": "[encoded data removed]",
      "text/plain": [
       "<Figure size 432x288 with 1 Axes>"
      ]
     },
     "metadata": {
      "needs_background": "light"
     },
     "output_type": "display_data"
    }
   ],
   "source": [
    "sn.boxplot(df['Dystopia Residual'])"
   ]
  },
  {
   "cell_type": "code",
   "execution_count": 11,
   "id": "bf44141b",
   "metadata": {},
   "outputs": [
    {
     "name": "stderr",
     "output_type": "stream",
     "text": [
      "C:\\ProgramData\\Anaconda3\\lib\\site-packages\\seaborn\\_decorators.py:36: FutureWarning: Pass the following variable as a keyword arg: x. From version 0.12, the only valid positional argument will be `data`, and passing other arguments without an explicit keyword will result in an error or misinterpretation.\n",
      "  warnings.warn(\n"
     ]
    },
    {
     "data": {
      "text/plain": [
       "<AxesSubplot:xlabel='Family', ylabel='count'>"
      ]
     },
     "execution_count": 11,
     "metadata": {},
     "output_type": "execute_result"
    },
    {
     "data": {
      "image/png": "[encoded data removed]",
      "text/plain": [
       "<Figure size 432x288 with 1 Axes>"
      ]
     },
     "metadata": {
      "needs_background": "light"
     },
     "output_type": "display_data"
    }
   ],
   "source": [
    "sn.countplot(df['Family'])"
   ]
  },
  {
   "cell_type": "code",
   "execution_count": 12,
   "id": "aba52baf",
   "metadata": {},
   "outputs": [
    {
     "name": "stderr",
     "output_type": "stream",
     "text": [
      "C:\\ProgramData\\Anaconda3\\lib\\site-packages\\seaborn\\_decorators.py:36: FutureWarning: Pass the following variable as a keyword arg: x. From version 0.12, the only valid positional argument will be `data`, and passing other arguments without an explicit keyword will result in an error or misinterpretation.\n",
      "  warnings.warn(\n"
     ]
    },
    {
     "data": {
      "text/plain": [
       "<AxesSubplot:xlabel='Family'>"
      ]
     },
     "execution_count": 12,
     "metadata": {},
     "output_type": "execute_result"
    },
    {
     "data": {
      "image/png": "[encoded data removed]",
      "text/plain": [
       "<Figure size 432x288 with 1 Axes>"
      ]
     },
     "metadata": {
      "needs_background": "light"
     },
     "output_type": "display_data"
    }
   ],
   "source": [
    "sn.boxplot(df['Family'])"
   ]
  },
  {
   "cell_type": "code",
   "execution_count": 13,
   "id": "da66302d",
   "metadata": {},
   "outputs": [
    {
     "name": "stderr",
     "output_type": "stream",
     "text": [
      "C:\\ProgramData\\Anaconda3\\lib\\site-packages\\seaborn\\_decorators.py:36: FutureWarning: Pass the following variable as a keyword arg: x. From version 0.12, the only valid positional argument will be `data`, and passing other arguments without an explicit keyword will result in an error or misinterpretation.\n",
      "  warnings.warn(\n"
     ]
    },
    {
     "data": {
      "text/plain": [
       "<AxesSubplot:xlabel='Generosity'>"
      ]
     },
     "execution_count": 13,
     "metadata": {},
     "output_type": "execute_result"
    },
    {
     "data": {
      "image/png": "[encoded data removed]",
      "text/plain": [
       "<Figure size 432x288 with 1 Axes>"
      ]
     },
     "metadata": {
      "needs_background": "light"
     },
     "output_type": "display_data"
    }
   ],
   "source": [
    "sn.boxplot(df['Generosity'])"
   ]
  },
  {
   "cell_type": "code",
   "execution_count": 21,
   "id": "d47c6c0f",
   "metadata": {},
   "outputs": [
    {
     "name": "stderr",
     "output_type": "stream",
     "text": [
      "C:\\ProgramData\\Anaconda3\\lib\\site-packages\\seaborn\\distributions.py:2557: FutureWarning: `distplot` is a deprecated function and will be removed in a future version. Please adapt your code to use either `displot` (a figure-level function with similar flexibility) or `histplot` (an axes-level function for histograms).\n",
      "  warnings.warn(msg, FutureWarning)\n"
     ]
    },
    {
     "data": {
      "text/plain": [
       "<AxesSubplot:xlabel='Generosity', ylabel='Density'>"
      ]
     },
     "execution_count": 21,
     "metadata": {},
     "output_type": "execute_result"
    },
    {
     "data": {
      "image/png": "[encoded data removed]",
      "text/plain": [
       "<Figure size 432x288 with 1 Axes>"
      ]
     },
     "metadata": {
      "needs_background": "light"
     },
     "output_type": "display_data"
    }
   ],
   "source": [
    "sn.distplot(df['Generosity'])"
   ]
  },
  {
   "cell_type": "markdown",
   "id": "4e6b9c95",
   "metadata": {},
   "source": [
    "Data is normally distributed"
   ]
  },
  {
   "cell_type": "code",
   "execution_count": null,
   "id": "13888763",
   "metadata": {},
   "outputs": [],
   "source": []
  }
 ],
 "metadata": {
  "kernelspec": {
   "display_name": "Python 3",
   "language": "python",
   "name": "python3"
  },
  "language_info": {
   "codemirror_mode": {
    "name": "ipython",
    "version": 3
   },
   "file_extension": ".py",
   "mimetype": "text/x-python",
   "name": "python",
   "nbconvert_exporter": "python",
   "pygments_lexer": "ipython3",
   "version": "3.8.8"
  }
 },
 "nbformat": 4,
 "nbformat_minor": 5
}
